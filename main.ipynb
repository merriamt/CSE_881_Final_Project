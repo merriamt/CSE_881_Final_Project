{
 "cells": [
  {
   "cell_type": "code",
   "execution_count": 1,
   "metadata": {},
   "outputs": [],
   "source": [
    "import matplotlib.pyplot as plt\n",
    "%matplotlib inline\n",
    "import numpy as np \n",
    "import pandas as pd # data processing, CSV file I/O (e.g. pd.read_csv)\n",
    "from collections import defaultdict\n",
    "import timeit\n",
    "from IPython.display import display\n",
    "from tqdm import tqdm_notebook\n",
    "from sklearn.decomposition import NMF"
   ]
  },
  {
   "cell_type": "code",
   "execution_count": 2,
   "metadata": {},
   "outputs": [],
   "source": [
    "# load the data\n",
    "df1 = pd.read_csv('item_properties_part1.csv')\n",
    "df2 = pd.read_csv('item_properties_part2.csv')\n",
    "\n",
    "properties_df = pd.concat([df1, df2])\n",
    "events_df = pd.read_csv('events.csv')\n",
    "category_df = pd.read_csv('category_tree.csv')\n",
    "\n",
    "# change timestamp to more useful format\n",
    "properties_df.timestamp = pd.to_datetime(properties_df['timestamp'], unit='ms')\n",
    "events_df.timestamp = pd.to_datetime(events_df['timestamp'], unit='ms')"
   ]
  },
  {
   "cell_type": "code",
   "execution_count": 3,
   "metadata": {},
   "outputs": [
    {
     "output_type": "display_data",
     "data": {
      "text/plain": "            timestamp  itemid    property                            value\n0 2015-06-28 03:00:00  460429  categoryid                             1338\n1 2015-09-06 03:00:00  206783         888          1116713 960601 n277.200\n2 2015-08-09 03:00:00  395014         400  n552.000 639502 n720.000 424566\n3 2015-05-10 03:00:00   59481         790                       n15360.000\n4 2015-05-17 03:00:00  156781         917                           828513",
      "text/html": "<div>\n<style scoped>\n    .dataframe tbody tr th:only-of-type {\n        vertical-align: middle;\n    }\n\n    .dataframe tbody tr th {\n        vertical-align: top;\n    }\n\n    .dataframe thead th {\n        text-align: right;\n    }\n</style>\n<table border=\"1\" class=\"dataframe\">\n  <thead>\n    <tr style=\"text-align: right;\">\n      <th></th>\n      <th>timestamp</th>\n      <th>itemid</th>\n      <th>property</th>\n      <th>value</th>\n    </tr>\n  </thead>\n  <tbody>\n    <tr>\n      <th>0</th>\n      <td>2015-06-28 03:00:00</td>\n      <td>460429</td>\n      <td>categoryid</td>\n      <td>1338</td>\n    </tr>\n    <tr>\n      <th>1</th>\n      <td>2015-09-06 03:00:00</td>\n      <td>206783</td>\n      <td>888</td>\n      <td>1116713 960601 n277.200</td>\n    </tr>\n    <tr>\n      <th>2</th>\n      <td>2015-08-09 03:00:00</td>\n      <td>395014</td>\n      <td>400</td>\n      <td>n552.000 639502 n720.000 424566</td>\n    </tr>\n    <tr>\n      <th>3</th>\n      <td>2015-05-10 03:00:00</td>\n      <td>59481</td>\n      <td>790</td>\n      <td>n15360.000</td>\n    </tr>\n    <tr>\n      <th>4</th>\n      <td>2015-05-17 03:00:00</td>\n      <td>156781</td>\n      <td>917</td>\n      <td>828513</td>\n    </tr>\n  </tbody>\n</table>\n</div>"
     },
     "metadata": {}
    },
    {
     "output_type": "display_data",
     "data": {
      "text/plain": "                timestamp  visitorid event  itemid  transactionid\n0 2015-06-02 05:02:12.117     257597  view  355908            NaN\n1 2015-06-02 05:50:14.164     992329  view  248676            NaN\n2 2015-06-02 05:13:19.827     111016  view  318965            NaN\n3 2015-06-02 05:12:35.914     483717  view  253185            NaN\n4 2015-06-02 05:02:17.106     951259  view  367447            NaN",
      "text/html": "<div>\n<style scoped>\n    .dataframe tbody tr th:only-of-type {\n        vertical-align: middle;\n    }\n\n    .dataframe tbody tr th {\n        vertical-align: top;\n    }\n\n    .dataframe thead th {\n        text-align: right;\n    }\n</style>\n<table border=\"1\" class=\"dataframe\">\n  <thead>\n    <tr style=\"text-align: right;\">\n      <th></th>\n      <th>timestamp</th>\n      <th>visitorid</th>\n      <th>event</th>\n      <th>itemid</th>\n      <th>transactionid</th>\n    </tr>\n  </thead>\n  <tbody>\n    <tr>\n      <th>0</th>\n      <td>2015-06-02 05:02:12.117</td>\n      <td>257597</td>\n      <td>view</td>\n      <td>355908</td>\n      <td>NaN</td>\n    </tr>\n    <tr>\n      <th>1</th>\n      <td>2015-06-02 05:50:14.164</td>\n      <td>992329</td>\n      <td>view</td>\n      <td>248676</td>\n      <td>NaN</td>\n    </tr>\n    <tr>\n      <th>2</th>\n      <td>2015-06-02 05:13:19.827</td>\n      <td>111016</td>\n      <td>view</td>\n      <td>318965</td>\n      <td>NaN</td>\n    </tr>\n    <tr>\n      <th>3</th>\n      <td>2015-06-02 05:12:35.914</td>\n      <td>483717</td>\n      <td>view</td>\n      <td>253185</td>\n      <td>NaN</td>\n    </tr>\n    <tr>\n      <th>4</th>\n      <td>2015-06-02 05:02:17.106</td>\n      <td>951259</td>\n      <td>view</td>\n      <td>367447</td>\n      <td>NaN</td>\n    </tr>\n  </tbody>\n</table>\n</div>"
     },
     "metadata": {}
    },
    {
     "output_type": "display_data",
     "data": {
      "text/plain": "   categoryid  parentid\n0        1016     213.0\n1         809     169.0\n2         570       9.0\n3        1691     885.0\n4         536    1691.0",
      "text/html": "<div>\n<style scoped>\n    .dataframe tbody tr th:only-of-type {\n        vertical-align: middle;\n    }\n\n    .dataframe tbody tr th {\n        vertical-align: top;\n    }\n\n    .dataframe thead th {\n        text-align: right;\n    }\n</style>\n<table border=\"1\" class=\"dataframe\">\n  <thead>\n    <tr style=\"text-align: right;\">\n      <th></th>\n      <th>categoryid</th>\n      <th>parentid</th>\n    </tr>\n  </thead>\n  <tbody>\n    <tr>\n      <th>0</th>\n      <td>1016</td>\n      <td>213.0</td>\n    </tr>\n    <tr>\n      <th>1</th>\n      <td>809</td>\n      <td>169.0</td>\n    </tr>\n    <tr>\n      <th>2</th>\n      <td>570</td>\n      <td>9.0</td>\n    </tr>\n    <tr>\n      <th>3</th>\n      <td>1691</td>\n      <td>885.0</td>\n    </tr>\n    <tr>\n      <th>4</th>\n      <td>536</td>\n      <td>1691.0</td>\n    </tr>\n  </tbody>\n</table>\n</div>"
     },
     "metadata": {}
    }
   ],
   "source": [
    "# first look at data\n",
    "display(properties_df.head())\n",
    "display(events_df.head())\n",
    "display(category_df.head())"
   ]
  },
  {
   "cell_type": "code",
   "execution_count": 4,
   "metadata": {},
   "outputs": [],
   "source": [
    "# We have plenty of rows in properties and only \"property\" values of \"categoryid\" and \"available\" are not hashed\n",
    "# Thus we decide to remove all rows except where \"availalbe\" is 1 or we have the \"categoryid\"\n",
    "# df_filtered = df[df['Age'] >= 25]\n",
    "properties_df = properties_df[(properties_df.property == \"categoryid\") | ((properties_df.property == \"available\") & (properties_df.value == '1'))]"
   ]
  },
  {
   "cell_type": "code",
   "execution_count": 5,
   "metadata": {},
   "outputs": [
    {
     "output_type": "execute_result",
     "data": {
      "text/plain": [
       "categoryid    788214\n",
       "available     640553\n",
       "Name: property, dtype: int64"
      ]
     },
     "metadata": {},
     "execution_count": 5
    }
   ],
   "source": [
    "properties_df.property.value_counts()"
   ]
  },
  {
   "cell_type": "code",
   "execution_count": 6,
   "metadata": {},
   "outputs": [
    {
     "output_type": "execute_result",
     "data": {
      "text/plain": [
       "              timestamp  itemid    property value\n",
       "0   2015-06-28 03:00:00  460429  categoryid  1338\n",
       "82  2015-06-14 03:00:00  316253   available     1\n",
       "140 2015-05-24 03:00:00  281245  categoryid  1277\n",
       "151 2015-06-28 03:00:00   35575  categoryid  1059\n",
       "167 2015-06-28 03:00:00  139939   available     1"
      ],
      "text/html": "<div>\n<style scoped>\n    .dataframe tbody tr th:only-of-type {\n        vertical-align: middle;\n    }\n\n    .dataframe tbody tr th {\n        vertical-align: top;\n    }\n\n    .dataframe thead th {\n        text-align: right;\n    }\n</style>\n<table border=\"1\" class=\"dataframe\">\n  <thead>\n    <tr style=\"text-align: right;\">\n      <th></th>\n      <th>timestamp</th>\n      <th>itemid</th>\n      <th>property</th>\n      <th>value</th>\n    </tr>\n  </thead>\n  <tbody>\n    <tr>\n      <th>0</th>\n      <td>2015-06-28 03:00:00</td>\n      <td>460429</td>\n      <td>categoryid</td>\n      <td>1338</td>\n    </tr>\n    <tr>\n      <th>82</th>\n      <td>2015-06-14 03:00:00</td>\n      <td>316253</td>\n      <td>available</td>\n      <td>1</td>\n    </tr>\n    <tr>\n      <th>140</th>\n      <td>2015-05-24 03:00:00</td>\n      <td>281245</td>\n      <td>categoryid</td>\n      <td>1277</td>\n    </tr>\n    <tr>\n      <th>151</th>\n      <td>2015-06-28 03:00:00</td>\n      <td>35575</td>\n      <td>categoryid</td>\n      <td>1059</td>\n    </tr>\n    <tr>\n      <th>167</th>\n      <td>2015-06-28 03:00:00</td>\n      <td>139939</td>\n      <td>available</td>\n      <td>1</td>\n    </tr>\n  </tbody>\n</table>\n</div>"
     },
     "metadata": {},
     "execution_count": 6
    }
   ],
   "source": [
    "properties_df.head()"
   ]
  },
  {
   "cell_type": "code",
   "execution_count": 7,
   "metadata": {},
   "outputs": [
    {
     "output_type": "stream",
     "name": "stdout",
     "text": [
      "na category values categoryid     0\n",
      "parentid      25\n",
      "dtype: int64\n",
      "number of rows in category df 1669\n",
      "unique parent 363\n",
      "unique child 1669\n",
      "child counts for top 20 parent IDs [31, 22, 22, 19, 18, 17, 15, 15, 13, 13, 13, 12, 12, 11, 11, 10, 10, 10, 10, 10]\n",
      "view           2664312\n",
      "addtocart        69332\n",
      "transaction      22457\n",
      "dtype: int64\n"
     ]
    },
    {
     "output_type": "execute_result",
     "data": {
      "text/plain": [
       "<AxesSubplot:>"
      ]
     },
     "metadata": {},
     "execution_count": 7
    },
    {
     "output_type": "display_data",
     "data": {
      "text/plain": "<Figure size 432x288 with 1 Axes>",
      "image/svg+xml": "<?xml version=\"1.0\" encoding=\"utf-8\" standalone=\"no\"?>\r\n<!DOCTYPE svg PUBLIC \"-//W3C//DTD SVG 1.1//EN\"\r\n  \"http://www.w3.org/Graphics/SVG/1.1/DTD/svg11.dtd\">\r\n<!-- Created with matplotlib (https://matplotlib.org/) -->\r\n<svg height=\"259.116562pt\" version=\"1.1\" viewBox=\"0 0 372.103125 259.116562\" width=\"372.103125pt\" xmlns=\"http://www.w3.org/2000/svg\" xmlns:xlink=\"http://www.w3.org/1999/xlink\">\r\n <metadata>\r\n  <rdf:RDF xmlns:cc=\"http://creativecommons.org/ns#\" xmlns:dc=\"http://purl.org/dc/elements/1.1/\" xmlns:rdf=\"http://www.w3.org/1999/02/22-rdf-syntax-ns#\">\r\n   <cc:Work>\r\n    <dc:type rdf:resource=\"http://purl.org/dc/dcmitype/StillImage\"/>\r\n    <dc:date>2021-04-21T00:48:10.643676</dc:date>\r\n    <dc:format>image/svg+xml</dc:format>\r\n    <dc:creator>\r\n     <cc:Agent>\r\n      <dc:title>Matplotlib v3.3.2, https://matplotlib.org/</dc:title>\r\n     </cc:Agent>\r\n    </dc:creator>\r\n   </cc:Work>\r\n  </rdf:RDF>\r\n </metadata>\r\n <defs>\r\n  <style type=\"text/css\">*{stroke-linecap:butt;stroke-linejoin:round;}</style>\r\n </defs>\r\n <g id=\"figure_1\">\r\n  <g id=\"patch_1\">\r\n   <path d=\"M 0 259.116562 \r\nL 372.103125 259.116562 \r\nL 372.103125 0 \r\nL 0 0 \r\nz\r\n\" style=\"fill:none;\"/>\r\n  </g>\r\n  <g id=\"axes_1\">\r\n   <g id=\"patch_2\">\r\n    <path d=\"M 30.103125 235.238437 \r\nL 364.903125 235.238437 \r\nL 364.903125 17.798437 \r\nL 30.103125 17.798437 \r\nz\r\n\" style=\"fill:#ffffff;\"/>\r\n   </g>\r\n   <g id=\"patch_3\">\r\n    <path clip-path=\"url(#pdf717aa6f1)\" d=\"M 58.003125 235.238437 \r\nL 113.803125 235.238437 \r\nL 113.803125 28.152723 \r\nL 58.003125 28.152723 \r\nz\r\n\" style=\"fill:#1f77b4;\"/>\r\n   </g>\r\n   <g id=\"patch_4\">\r\n    <path clip-path=\"url(#pdf717aa6f1)\" d=\"M 169.603125 235.238437 \r\nL 225.403125 235.238437 \r\nL 225.403125 229.849554 \r\nL 169.603125 229.849554 \r\nz\r\n\" style=\"fill:#1f77b4;\"/>\r\n   </g>\r\n   <g id=\"patch_5\">\r\n    <path clip-path=\"url(#pdf717aa6f1)\" d=\"M 281.203125 235.238437 \r\nL 337.003125 235.238437 \r\nL 337.003125 233.49295 \r\nL 281.203125 233.49295 \r\nz\r\n\" style=\"fill:#1f77b4;\"/>\r\n   </g>\r\n   <g id=\"matplotlib.axis_1\">\r\n    <g id=\"xtick_1\">\r\n     <g id=\"line2d_1\">\r\n      <defs>\r\n       <path d=\"M 0 0 \r\nL 0 3.5 \r\n\" id=\"m1b7b9c4869\" style=\"stroke:#000000;stroke-width:0.8;\"/>\r\n      </defs>\r\n      <g>\r\n       <use style=\"stroke:#000000;stroke-width:0.8;\" x=\"85.903125\" xlink:href=\"#m1b7b9c4869\" y=\"235.238437\"/>\r\n      </g>\r\n     </g>\r\n     <g id=\"text_1\">\r\n      <!-- view -->\r\n      <g transform=\"translate(74.389063 249.836875)scale(0.1 -0.1)\">\r\n       <defs>\r\n        <path d=\"M 2.984375 54.6875 \r\nL 12.5 54.6875 \r\nL 29.59375 8.796875 \r\nL 46.6875 54.6875 \r\nL 56.203125 54.6875 \r\nL 35.6875 0 \r\nL 23.484375 0 \r\nz\r\n\" id=\"DejaVuSans-118\"/>\r\n        <path d=\"M 9.421875 54.6875 \r\nL 18.40625 54.6875 \r\nL 18.40625 0 \r\nL 9.421875 0 \r\nz\r\nM 9.421875 75.984375 \r\nL 18.40625 75.984375 \r\nL 18.40625 64.59375 \r\nL 9.421875 64.59375 \r\nz\r\n\" id=\"DejaVuSans-105\"/>\r\n        <path d=\"M 56.203125 29.59375 \r\nL 56.203125 25.203125 \r\nL 14.890625 25.203125 \r\nQ 15.484375 15.921875 20.484375 11.0625 \r\nQ 25.484375 6.203125 34.421875 6.203125 \r\nQ 39.59375 6.203125 44.453125 7.46875 \r\nQ 49.3125 8.734375 54.109375 11.28125 \r\nL 54.109375 2.78125 \r\nQ 49.265625 0.734375 44.1875 -0.34375 \r\nQ 39.109375 -1.421875 33.890625 -1.421875 \r\nQ 20.796875 -1.421875 13.15625 6.1875 \r\nQ 5.515625 13.8125 5.515625 26.8125 \r\nQ 5.515625 40.234375 12.765625 48.109375 \r\nQ 20.015625 56 32.328125 56 \r\nQ 43.359375 56 49.78125 48.890625 \r\nQ 56.203125 41.796875 56.203125 29.59375 \r\nz\r\nM 47.21875 32.234375 \r\nQ 47.125 39.59375 43.09375 43.984375 \r\nQ 39.0625 48.390625 32.421875 48.390625 \r\nQ 24.90625 48.390625 20.390625 44.140625 \r\nQ 15.875 39.890625 15.1875 32.171875 \r\nz\r\n\" id=\"DejaVuSans-101\"/>\r\n        <path d=\"M 4.203125 54.6875 \r\nL 13.1875 54.6875 \r\nL 24.421875 12.015625 \r\nL 35.59375 54.6875 \r\nL 46.1875 54.6875 \r\nL 57.421875 12.015625 \r\nL 68.609375 54.6875 \r\nL 77.59375 54.6875 \r\nL 63.28125 0 \r\nL 52.6875 0 \r\nL 40.921875 44.828125 \r\nL 29.109375 0 \r\nL 18.5 0 \r\nz\r\n\" id=\"DejaVuSans-119\"/>\r\n       </defs>\r\n       <use xlink:href=\"#DejaVuSans-118\"/>\r\n       <use x=\"59.179688\" xlink:href=\"#DejaVuSans-105\"/>\r\n       <use x=\"86.962891\" xlink:href=\"#DejaVuSans-101\"/>\r\n       <use x=\"148.486328\" xlink:href=\"#DejaVuSans-119\"/>\r\n      </g>\r\n     </g>\r\n    </g>\r\n    <g id=\"xtick_2\">\r\n     <g id=\"line2d_2\">\r\n      <g>\r\n       <use style=\"stroke:#000000;stroke-width:0.8;\" x=\"197.503125\" xlink:href=\"#m1b7b9c4869\" y=\"235.238437\"/>\r\n      </g>\r\n     </g>\r\n     <g id=\"text_2\">\r\n      <!-- addtocart -->\r\n      <g transform=\"translate(173.242188 249.836875)scale(0.1 -0.1)\">\r\n       <defs>\r\n        <path d=\"M 34.28125 27.484375 \r\nQ 23.390625 27.484375 19.1875 25 \r\nQ 14.984375 22.515625 14.984375 16.5 \r\nQ 14.984375 11.71875 18.140625 8.90625 \r\nQ 21.296875 6.109375 26.703125 6.109375 \r\nQ 34.1875 6.109375 38.703125 11.40625 \r\nQ 43.21875 16.703125 43.21875 25.484375 \r\nL 43.21875 27.484375 \r\nz\r\nM 52.203125 31.203125 \r\nL 52.203125 0 \r\nL 43.21875 0 \r\nL 43.21875 8.296875 \r\nQ 40.140625 3.328125 35.546875 0.953125 \r\nQ 30.953125 -1.421875 24.3125 -1.421875 \r\nQ 15.921875 -1.421875 10.953125 3.296875 \r\nQ 6 8.015625 6 15.921875 \r\nQ 6 25.140625 12.171875 29.828125 \r\nQ 18.359375 34.515625 30.609375 34.515625 \r\nL 43.21875 34.515625 \r\nL 43.21875 35.40625 \r\nQ 43.21875 41.609375 39.140625 45 \r\nQ 35.0625 48.390625 27.6875 48.390625 \r\nQ 23 48.390625 18.546875 47.265625 \r\nQ 14.109375 46.140625 10.015625 43.890625 \r\nL 10.015625 52.203125 \r\nQ 14.9375 54.109375 19.578125 55.046875 \r\nQ 24.21875 56 28.609375 56 \r\nQ 40.484375 56 46.34375 49.84375 \r\nQ 52.203125 43.703125 52.203125 31.203125 \r\nz\r\n\" id=\"DejaVuSans-97\"/>\r\n        <path d=\"M 45.40625 46.390625 \r\nL 45.40625 75.984375 \r\nL 54.390625 75.984375 \r\nL 54.390625 0 \r\nL 45.40625 0 \r\nL 45.40625 8.203125 \r\nQ 42.578125 3.328125 38.25 0.953125 \r\nQ 33.9375 -1.421875 27.875 -1.421875 \r\nQ 17.96875 -1.421875 11.734375 6.484375 \r\nQ 5.515625 14.40625 5.515625 27.296875 \r\nQ 5.515625 40.1875 11.734375 48.09375 \r\nQ 17.96875 56 27.875 56 \r\nQ 33.9375 56 38.25 53.625 \r\nQ 42.578125 51.265625 45.40625 46.390625 \r\nz\r\nM 14.796875 27.296875 \r\nQ 14.796875 17.390625 18.875 11.75 \r\nQ 22.953125 6.109375 30.078125 6.109375 \r\nQ 37.203125 6.109375 41.296875 11.75 \r\nQ 45.40625 17.390625 45.40625 27.296875 \r\nQ 45.40625 37.203125 41.296875 42.84375 \r\nQ 37.203125 48.484375 30.078125 48.484375 \r\nQ 22.953125 48.484375 18.875 42.84375 \r\nQ 14.796875 37.203125 14.796875 27.296875 \r\nz\r\n\" id=\"DejaVuSans-100\"/>\r\n        <path d=\"M 18.3125 70.21875 \r\nL 18.3125 54.6875 \r\nL 36.8125 54.6875 \r\nL 36.8125 47.703125 \r\nL 18.3125 47.703125 \r\nL 18.3125 18.015625 \r\nQ 18.3125 11.328125 20.140625 9.421875 \r\nQ 21.96875 7.515625 27.59375 7.515625 \r\nL 36.8125 7.515625 \r\nL 36.8125 0 \r\nL 27.59375 0 \r\nQ 17.1875 0 13.234375 3.875 \r\nQ 9.28125 7.765625 9.28125 18.015625 \r\nL 9.28125 47.703125 \r\nL 2.6875 47.703125 \r\nL 2.6875 54.6875 \r\nL 9.28125 54.6875 \r\nL 9.28125 70.21875 \r\nz\r\n\" id=\"DejaVuSans-116\"/>\r\n        <path d=\"M 30.609375 48.390625 \r\nQ 23.390625 48.390625 19.1875 42.75 \r\nQ 14.984375 37.109375 14.984375 27.296875 \r\nQ 14.984375 17.484375 19.15625 11.84375 \r\nQ 23.34375 6.203125 30.609375 6.203125 \r\nQ 37.796875 6.203125 41.984375 11.859375 \r\nQ 46.1875 17.53125 46.1875 27.296875 \r\nQ 46.1875 37.015625 41.984375 42.703125 \r\nQ 37.796875 48.390625 30.609375 48.390625 \r\nz\r\nM 30.609375 56 \r\nQ 42.328125 56 49.015625 48.375 \r\nQ 55.71875 40.765625 55.71875 27.296875 \r\nQ 55.71875 13.875 49.015625 6.21875 \r\nQ 42.328125 -1.421875 30.609375 -1.421875 \r\nQ 18.84375 -1.421875 12.171875 6.21875 \r\nQ 5.515625 13.875 5.515625 27.296875 \r\nQ 5.515625 40.765625 12.171875 48.375 \r\nQ 18.84375 56 30.609375 56 \r\nz\r\n\" id=\"DejaVuSans-111\"/>\r\n        <path d=\"M 48.78125 52.59375 \r\nL 48.78125 44.1875 \r\nQ 44.96875 46.296875 41.140625 47.34375 \r\nQ 37.3125 48.390625 33.40625 48.390625 \r\nQ 24.65625 48.390625 19.8125 42.84375 \r\nQ 14.984375 37.3125 14.984375 27.296875 \r\nQ 14.984375 17.28125 19.8125 11.734375 \r\nQ 24.65625 6.203125 33.40625 6.203125 \r\nQ 37.3125 6.203125 41.140625 7.25 \r\nQ 44.96875 8.296875 48.78125 10.40625 \r\nL 48.78125 2.09375 \r\nQ 45.015625 0.34375 40.984375 -0.53125 \r\nQ 36.96875 -1.421875 32.421875 -1.421875 \r\nQ 20.0625 -1.421875 12.78125 6.34375 \r\nQ 5.515625 14.109375 5.515625 27.296875 \r\nQ 5.515625 40.671875 12.859375 48.328125 \r\nQ 20.21875 56 33.015625 56 \r\nQ 37.15625 56 41.109375 55.140625 \r\nQ 45.0625 54.296875 48.78125 52.59375 \r\nz\r\n\" id=\"DejaVuSans-99\"/>\r\n        <path d=\"M 41.109375 46.296875 \r\nQ 39.59375 47.171875 37.8125 47.578125 \r\nQ 36.03125 48 33.890625 48 \r\nQ 26.265625 48 22.1875 43.046875 \r\nQ 18.109375 38.09375 18.109375 28.8125 \r\nL 18.109375 0 \r\nL 9.078125 0 \r\nL 9.078125 54.6875 \r\nL 18.109375 54.6875 \r\nL 18.109375 46.1875 \r\nQ 20.953125 51.171875 25.484375 53.578125 \r\nQ 30.03125 56 36.53125 56 \r\nQ 37.453125 56 38.578125 55.875 \r\nQ 39.703125 55.765625 41.0625 55.515625 \r\nz\r\n\" id=\"DejaVuSans-114\"/>\r\n       </defs>\r\n       <use xlink:href=\"#DejaVuSans-97\"/>\r\n       <use x=\"61.279297\" xlink:href=\"#DejaVuSans-100\"/>\r\n       <use x=\"124.755859\" xlink:href=\"#DejaVuSans-100\"/>\r\n       <use x=\"188.232422\" xlink:href=\"#DejaVuSans-116\"/>\r\n       <use x=\"227.441406\" xlink:href=\"#DejaVuSans-111\"/>\r\n       <use x=\"288.623047\" xlink:href=\"#DejaVuSans-99\"/>\r\n       <use x=\"343.603516\" xlink:href=\"#DejaVuSans-97\"/>\r\n       <use x=\"404.882812\" xlink:href=\"#DejaVuSans-114\"/>\r\n       <use x=\"445.996094\" xlink:href=\"#DejaVuSans-116\"/>\r\n      </g>\r\n     </g>\r\n    </g>\r\n    <g id=\"xtick_3\">\r\n     <g id=\"line2d_3\">\r\n      <g>\r\n       <use style=\"stroke:#000000;stroke-width:0.8;\" x=\"309.103125\" xlink:href=\"#m1b7b9c4869\" y=\"235.238437\"/>\r\n      </g>\r\n     </g>\r\n     <g id=\"text_3\">\r\n      <!-- transaction -->\r\n      <g transform=\"translate(280.859375 249.836875)scale(0.1 -0.1)\">\r\n       <defs>\r\n        <path d=\"M 54.890625 33.015625 \r\nL 54.890625 0 \r\nL 45.90625 0 \r\nL 45.90625 32.71875 \r\nQ 45.90625 40.484375 42.875 44.328125 \r\nQ 39.84375 48.1875 33.796875 48.1875 \r\nQ 26.515625 48.1875 22.3125 43.546875 \r\nQ 18.109375 38.921875 18.109375 30.90625 \r\nL 18.109375 0 \r\nL 9.078125 0 \r\nL 9.078125 54.6875 \r\nL 18.109375 54.6875 \r\nL 18.109375 46.1875 \r\nQ 21.34375 51.125 25.703125 53.5625 \r\nQ 30.078125 56 35.796875 56 \r\nQ 45.21875 56 50.046875 50.171875 \r\nQ 54.890625 44.34375 54.890625 33.015625 \r\nz\r\n\" id=\"DejaVuSans-110\"/>\r\n        <path d=\"M 44.28125 53.078125 \r\nL 44.28125 44.578125 \r\nQ 40.484375 46.53125 36.375 47.5 \r\nQ 32.28125 48.484375 27.875 48.484375 \r\nQ 21.1875 48.484375 17.84375 46.4375 \r\nQ 14.5 44.390625 14.5 40.28125 \r\nQ 14.5 37.15625 16.890625 35.375 \r\nQ 19.28125 33.59375 26.515625 31.984375 \r\nL 29.59375 31.296875 \r\nQ 39.15625 29.25 43.1875 25.515625 \r\nQ 47.21875 21.78125 47.21875 15.09375 \r\nQ 47.21875 7.46875 41.1875 3.015625 \r\nQ 35.15625 -1.421875 24.609375 -1.421875 \r\nQ 20.21875 -1.421875 15.453125 -0.5625 \r\nQ 10.6875 0.296875 5.421875 2 \r\nL 5.421875 11.28125 \r\nQ 10.40625 8.6875 15.234375 7.390625 \r\nQ 20.0625 6.109375 24.8125 6.109375 \r\nQ 31.15625 6.109375 34.5625 8.28125 \r\nQ 37.984375 10.453125 37.984375 14.40625 \r\nQ 37.984375 18.0625 35.515625 20.015625 \r\nQ 33.0625 21.96875 24.703125 23.78125 \r\nL 21.578125 24.515625 \r\nQ 13.234375 26.265625 9.515625 29.90625 \r\nQ 5.8125 33.546875 5.8125 39.890625 \r\nQ 5.8125 47.609375 11.28125 51.796875 \r\nQ 16.75 56 26.8125 56 \r\nQ 31.78125 56 36.171875 55.265625 \r\nQ 40.578125 54.546875 44.28125 53.078125 \r\nz\r\n\" id=\"DejaVuSans-115\"/>\r\n       </defs>\r\n       <use xlink:href=\"#DejaVuSans-116\"/>\r\n       <use x=\"39.208984\" xlink:href=\"#DejaVuSans-114\"/>\r\n       <use x=\"80.322266\" xlink:href=\"#DejaVuSans-97\"/>\r\n       <use x=\"141.601562\" xlink:href=\"#DejaVuSans-110\"/>\r\n       <use x=\"204.980469\" xlink:href=\"#DejaVuSans-115\"/>\r\n       <use x=\"257.080078\" xlink:href=\"#DejaVuSans-97\"/>\r\n       <use x=\"318.359375\" xlink:href=\"#DejaVuSans-99\"/>\r\n       <use x=\"373.339844\" xlink:href=\"#DejaVuSans-116\"/>\r\n       <use x=\"412.548828\" xlink:href=\"#DejaVuSans-105\"/>\r\n       <use x=\"440.332031\" xlink:href=\"#DejaVuSans-111\"/>\r\n       <use x=\"501.513672\" xlink:href=\"#DejaVuSans-110\"/>\r\n      </g>\r\n     </g>\r\n    </g>\r\n   </g>\r\n   <g id=\"matplotlib.axis_2\">\r\n    <g id=\"ytick_1\">\r\n     <g id=\"line2d_4\">\r\n      <defs>\r\n       <path d=\"M 0 0 \r\nL -3.5 0 \r\n\" id=\"m546f8cf44a\" style=\"stroke:#000000;stroke-width:0.8;\"/>\r\n      </defs>\r\n      <g>\r\n       <use style=\"stroke:#000000;stroke-width:0.8;\" x=\"30.103125\" xlink:href=\"#m546f8cf44a\" y=\"235.238437\"/>\r\n      </g>\r\n     </g>\r\n     <g id=\"text_4\">\r\n      <!-- 0.0 -->\r\n      <g transform=\"translate(7.2 239.037656)scale(0.1 -0.1)\">\r\n       <defs>\r\n        <path d=\"M 31.78125 66.40625 \r\nQ 24.171875 66.40625 20.328125 58.90625 \r\nQ 16.5 51.421875 16.5 36.375 \r\nQ 16.5 21.390625 20.328125 13.890625 \r\nQ 24.171875 6.390625 31.78125 6.390625 \r\nQ 39.453125 6.390625 43.28125 13.890625 \r\nQ 47.125 21.390625 47.125 36.375 \r\nQ 47.125 51.421875 43.28125 58.90625 \r\nQ 39.453125 66.40625 31.78125 66.40625 \r\nz\r\nM 31.78125 74.21875 \r\nQ 44.046875 74.21875 50.515625 64.515625 \r\nQ 56.984375 54.828125 56.984375 36.375 \r\nQ 56.984375 17.96875 50.515625 8.265625 \r\nQ 44.046875 -1.421875 31.78125 -1.421875 \r\nQ 19.53125 -1.421875 13.0625 8.265625 \r\nQ 6.59375 17.96875 6.59375 36.375 \r\nQ 6.59375 54.828125 13.0625 64.515625 \r\nQ 19.53125 74.21875 31.78125 74.21875 \r\nz\r\n\" id=\"DejaVuSans-48\"/>\r\n        <path d=\"M 10.6875 12.40625 \r\nL 21 12.40625 \r\nL 21 0 \r\nL 10.6875 0 \r\nz\r\n\" id=\"DejaVuSans-46\"/>\r\n       </defs>\r\n       <use xlink:href=\"#DejaVuSans-48\"/>\r\n       <use x=\"63.623047\" xlink:href=\"#DejaVuSans-46\"/>\r\n       <use x=\"95.410156\" xlink:href=\"#DejaVuSans-48\"/>\r\n      </g>\r\n     </g>\r\n    </g>\r\n    <g id=\"ytick_2\">\r\n     <g id=\"line2d_5\">\r\n      <g>\r\n       <use style=\"stroke:#000000;stroke-width:0.8;\" x=\"30.103125\" xlink:href=\"#m546f8cf44a\" y=\"196.37555\"/>\r\n      </g>\r\n     </g>\r\n     <g id=\"text_5\">\r\n      <!-- 0.5 -->\r\n      <g transform=\"translate(7.2 200.174769)scale(0.1 -0.1)\">\r\n       <defs>\r\n        <path d=\"M 10.796875 72.90625 \r\nL 49.515625 72.90625 \r\nL 49.515625 64.59375 \r\nL 19.828125 64.59375 \r\nL 19.828125 46.734375 \r\nQ 21.96875 47.46875 24.109375 47.828125 \r\nQ 26.265625 48.1875 28.421875 48.1875 \r\nQ 40.625 48.1875 47.75 41.5 \r\nQ 54.890625 34.8125 54.890625 23.390625 \r\nQ 54.890625 11.625 47.5625 5.09375 \r\nQ 40.234375 -1.421875 26.90625 -1.421875 \r\nQ 22.3125 -1.421875 17.546875 -0.640625 \r\nQ 12.796875 0.140625 7.71875 1.703125 \r\nL 7.71875 11.625 \r\nQ 12.109375 9.234375 16.796875 8.0625 \r\nQ 21.484375 6.890625 26.703125 6.890625 \r\nQ 35.15625 6.890625 40.078125 11.328125 \r\nQ 45.015625 15.765625 45.015625 23.390625 \r\nQ 45.015625 31 40.078125 35.4375 \r\nQ 35.15625 39.890625 26.703125 39.890625 \r\nQ 22.75 39.890625 18.8125 39.015625 \r\nQ 14.890625 38.140625 10.796875 36.28125 \r\nz\r\n\" id=\"DejaVuSans-53\"/>\r\n       </defs>\r\n       <use xlink:href=\"#DejaVuSans-48\"/>\r\n       <use x=\"63.623047\" xlink:href=\"#DejaVuSans-46\"/>\r\n       <use x=\"95.410156\" xlink:href=\"#DejaVuSans-53\"/>\r\n      </g>\r\n     </g>\r\n    </g>\r\n    <g id=\"ytick_3\">\r\n     <g id=\"line2d_6\">\r\n      <g>\r\n       <use style=\"stroke:#000000;stroke-width:0.8;\" x=\"30.103125\" xlink:href=\"#m546f8cf44a\" y=\"157.512663\"/>\r\n      </g>\r\n     </g>\r\n     <g id=\"text_6\">\r\n      <!-- 1.0 -->\r\n      <g transform=\"translate(7.2 161.311882)scale(0.1 -0.1)\">\r\n       <defs>\r\n        <path d=\"M 12.40625 8.296875 \r\nL 28.515625 8.296875 \r\nL 28.515625 63.921875 \r\nL 10.984375 60.40625 \r\nL 10.984375 69.390625 \r\nL 28.421875 72.90625 \r\nL 38.28125 72.90625 \r\nL 38.28125 8.296875 \r\nL 54.390625 8.296875 \r\nL 54.390625 0 \r\nL 12.40625 0 \r\nz\r\n\" id=\"DejaVuSans-49\"/>\r\n       </defs>\r\n       <use xlink:href=\"#DejaVuSans-49\"/>\r\n       <use x=\"63.623047\" xlink:href=\"#DejaVuSans-46\"/>\r\n       <use x=\"95.410156\" xlink:href=\"#DejaVuSans-48\"/>\r\n      </g>\r\n     </g>\r\n    </g>\r\n    <g id=\"ytick_4\">\r\n     <g id=\"line2d_7\">\r\n      <g>\r\n       <use style=\"stroke:#000000;stroke-width:0.8;\" x=\"30.103125\" xlink:href=\"#m546f8cf44a\" y=\"118.649775\"/>\r\n      </g>\r\n     </g>\r\n     <g id=\"text_7\">\r\n      <!-- 1.5 -->\r\n      <g transform=\"translate(7.2 122.448994)scale(0.1 -0.1)\">\r\n       <use xlink:href=\"#DejaVuSans-49\"/>\r\n       <use x=\"63.623047\" xlink:href=\"#DejaVuSans-46\"/>\r\n       <use x=\"95.410156\" xlink:href=\"#DejaVuSans-53\"/>\r\n      </g>\r\n     </g>\r\n    </g>\r\n    <g id=\"ytick_5\">\r\n     <g id=\"line2d_8\">\r\n      <g>\r\n       <use style=\"stroke:#000000;stroke-width:0.8;\" x=\"30.103125\" xlink:href=\"#m546f8cf44a\" y=\"79.786888\"/>\r\n      </g>\r\n     </g>\r\n     <g id=\"text_8\">\r\n      <!-- 2.0 -->\r\n      <g transform=\"translate(7.2 83.586107)scale(0.1 -0.1)\">\r\n       <defs>\r\n        <path d=\"M 19.1875 8.296875 \r\nL 53.609375 8.296875 \r\nL 53.609375 0 \r\nL 7.328125 0 \r\nL 7.328125 8.296875 \r\nQ 12.9375 14.109375 22.625 23.890625 \r\nQ 32.328125 33.6875 34.8125 36.53125 \r\nQ 39.546875 41.84375 41.421875 45.53125 \r\nQ 43.3125 49.21875 43.3125 52.78125 \r\nQ 43.3125 58.59375 39.234375 62.25 \r\nQ 35.15625 65.921875 28.609375 65.921875 \r\nQ 23.96875 65.921875 18.8125 64.3125 \r\nQ 13.671875 62.703125 7.8125 59.421875 \r\nL 7.8125 69.390625 \r\nQ 13.765625 71.78125 18.9375 73 \r\nQ 24.125 74.21875 28.421875 74.21875 \r\nQ 39.75 74.21875 46.484375 68.546875 \r\nQ 53.21875 62.890625 53.21875 53.421875 \r\nQ 53.21875 48.921875 51.53125 44.890625 \r\nQ 49.859375 40.875 45.40625 35.40625 \r\nQ 44.1875 33.984375 37.640625 27.21875 \r\nQ 31.109375 20.453125 19.1875 8.296875 \r\nz\r\n\" id=\"DejaVuSans-50\"/>\r\n       </defs>\r\n       <use xlink:href=\"#DejaVuSans-50\"/>\r\n       <use x=\"63.623047\" xlink:href=\"#DejaVuSans-46\"/>\r\n       <use x=\"95.410156\" xlink:href=\"#DejaVuSans-48\"/>\r\n      </g>\r\n     </g>\r\n    </g>\r\n    <g id=\"ytick_6\">\r\n     <g id=\"line2d_9\">\r\n      <g>\r\n       <use style=\"stroke:#000000;stroke-width:0.8;\" x=\"30.103125\" xlink:href=\"#m546f8cf44a\" y=\"40.924001\"/>\r\n      </g>\r\n     </g>\r\n     <g id=\"text_9\">\r\n      <!-- 2.5 -->\r\n      <g transform=\"translate(7.2 44.723219)scale(0.1 -0.1)\">\r\n       <use xlink:href=\"#DejaVuSans-50\"/>\r\n       <use x=\"63.623047\" xlink:href=\"#DejaVuSans-46\"/>\r\n       <use x=\"95.410156\" xlink:href=\"#DejaVuSans-53\"/>\r\n      </g>\r\n     </g>\r\n    </g>\r\n    <g id=\"text_10\">\r\n     <!-- 1e6 -->\r\n     <g transform=\"translate(30.103125 14.798437)scale(0.1 -0.1)\">\r\n      <defs>\r\n       <path d=\"M 33.015625 40.375 \r\nQ 26.375 40.375 22.484375 35.828125 \r\nQ 18.609375 31.296875 18.609375 23.390625 \r\nQ 18.609375 15.53125 22.484375 10.953125 \r\nQ 26.375 6.390625 33.015625 6.390625 \r\nQ 39.65625 6.390625 43.53125 10.953125 \r\nQ 47.40625 15.53125 47.40625 23.390625 \r\nQ 47.40625 31.296875 43.53125 35.828125 \r\nQ 39.65625 40.375 33.015625 40.375 \r\nz\r\nM 52.59375 71.296875 \r\nL 52.59375 62.3125 \r\nQ 48.875 64.0625 45.09375 64.984375 \r\nQ 41.3125 65.921875 37.59375 65.921875 \r\nQ 27.828125 65.921875 22.671875 59.328125 \r\nQ 17.53125 52.734375 16.796875 39.40625 \r\nQ 19.671875 43.65625 24.015625 45.921875 \r\nQ 28.375 48.1875 33.59375 48.1875 \r\nQ 44.578125 48.1875 50.953125 41.515625 \r\nQ 57.328125 34.859375 57.328125 23.390625 \r\nQ 57.328125 12.15625 50.6875 5.359375 \r\nQ 44.046875 -1.421875 33.015625 -1.421875 \r\nQ 20.359375 -1.421875 13.671875 8.265625 \r\nQ 6.984375 17.96875 6.984375 36.375 \r\nQ 6.984375 53.65625 15.1875 63.9375 \r\nQ 23.390625 74.21875 37.203125 74.21875 \r\nQ 40.921875 74.21875 44.703125 73.484375 \r\nQ 48.484375 72.75 52.59375 71.296875 \r\nz\r\n\" id=\"DejaVuSans-54\"/>\r\n      </defs>\r\n      <use xlink:href=\"#DejaVuSans-49\"/>\r\n      <use x=\"63.623047\" xlink:href=\"#DejaVuSans-101\"/>\r\n      <use x=\"125.146484\" xlink:href=\"#DejaVuSans-54\"/>\r\n     </g>\r\n    </g>\r\n   </g>\r\n   <g id=\"patch_6\">\r\n    <path d=\"M 30.103125 235.238437 \r\nL 30.103125 17.798438 \r\n\" style=\"fill:none;stroke:#000000;stroke-linecap:square;stroke-linejoin:miter;stroke-width:0.8;\"/>\r\n   </g>\r\n   <g id=\"patch_7\">\r\n    <path d=\"M 364.903125 235.238437 \r\nL 364.903125 17.798438 \r\n\" style=\"fill:none;stroke:#000000;stroke-linecap:square;stroke-linejoin:miter;stroke-width:0.8;\"/>\r\n   </g>\r\n   <g id=\"patch_8\">\r\n    <path d=\"M 30.103125 235.238437 \r\nL 364.903125 235.238437 \r\n\" style=\"fill:none;stroke:#000000;stroke-linecap:square;stroke-linejoin:miter;stroke-width:0.8;\"/>\r\n   </g>\r\n   <g id=\"patch_9\">\r\n    <path d=\"M 30.103125 17.798437 \r\nL 364.903125 17.798437 \r\n\" style=\"fill:none;stroke:#000000;stroke-linecap:square;stroke-linejoin:miter;stroke-width:0.8;\"/>\r\n   </g>\r\n  </g>\r\n </g>\r\n <defs>\r\n  <clipPath id=\"pdf717aa6f1\">\r\n   <rect height=\"217.44\" width=\"334.8\" x=\"30.103125\" y=\"17.798437\"/>\r\n  </clipPath>\r\n </defs>\r\n</svg>\r\n",
      "image/png": "[encoded data removed]"
     },
     "metadata": {
      "needs_background": "light"
     }
    }
   ],
   "source": [
    "# Data exploration\n",
    "# check for missing values and look at histograms and counts\n",
    "\n",
    "# how many na values in category parent and child columns - there are 25 categories with no parent\n",
    "print('na category values', category_df.isnull().sum(axis = 0))\n",
    "\n",
    "# number of rows in category df\n",
    "print('number of rows in category df', category_df.shape[0])\n",
    "\n",
    "# how many unique parent category ids\n",
    "print('unique parent', category_df['parentid'].unique().size)\n",
    "\n",
    "# how many unique child category ids\n",
    "print('unique child', category_df['categoryid'].unique().size)\n",
    "\n",
    "# how many children ids to the top parent categories have\n",
    "n = 20\n",
    "counts = pd.value_counts(category_df['parentid'].values)\n",
    "print(\"child counts for top {} parent IDs\".format(n), sorted(counts, reverse=True)[:n])\n",
    "\n",
    "# clearly events are dominated by views and there are no missing values in the events column\n",
    "counts = pd.value_counts(events_df['event'].values)\n",
    "print(counts)\n",
    "counts.plot.bar(rot=0)"
   ]
  },
  {
   "cell_type": "code",
   "execution_count": 8,
   "metadata": {},
   "outputs": [],
   "source": [
    "# since there are only 25 rows with nan values in category_df we decide to eliminate them\n",
    "category_df = category_df.dropna()"
   ]
  },
  {
   "cell_type": "code",
   "execution_count": 9,
   "metadata": {},
   "outputs": [],
   "source": [
    "# we have too many items at the moment - causing too many columns in our ranking matrix\n",
    "# we determine to remove items that have been viewed fewer than 30 times by all visitors and that have not been added to a cart or purchased\n",
    "'''\n",
    "This function takes in the events data frame and minimum thresholds for the \"event\"'s, \"view\", \"addtocart\", \n",
    "and \"transaction\" and returns a data frame that only includes \"itemid\"'s, products, that have been viewed, added, or purchased\n",
    "enough times to meet one of the minimum threholds. Basically, we are only looking at items that meet a minimum activity requiremnt.\n",
    "Since we have to cut some items for both memory and compuational efficiency it made the most sense keep \"hot\" itmes for which rankings\n",
    "would be the most valuable.\n",
    "'''\n",
    "def get_reduced_events(e_df=events_df, view_threshold =  200, add_to_cart_threshold = 40, transaction_threshold = 20):\n",
    "    view_counts = pd.value_counts(events_df.loc[events_df.event == 'view','itemid'].values)\n",
    "    add_to_cart_counts = pd.value_counts(events_df.loc[events_df.event == 'addtocart','itemid'].values)\n",
    "    transaction_counts = pd.value_counts(events_df.loc[events_df.event == 'transaction','itemid'].values)\n",
    "    keep_view = view_counts[view_counts.values >= view_threshold]\n",
    "    keep_add_to_cart = add_to_cart_counts[add_to_cart_counts.values >= add_to_cart_threshold]\n",
    "    keep_transaction = transaction_counts[transaction_counts.values >= transaction_threshold]\n",
    "    events_reduced_df = events_df[(events_df.itemid.isin(keep_view.index)) | (events_df.itemid.isin(keep_add_to_cart.index)) | (events_df.itemid.isin(keep_transaction.index))]\n",
    "    return events_reduced_df"
   ]
  },
  {
   "cell_type": "code",
   "execution_count": 39,
   "metadata": {},
   "outputs": [],
   "source": [
    "'''\n",
    "This fuction takes in the events, properties, and category data frames.\n",
    "It also takes two boolean parameters for addtocart and transaction events\n",
    "when these values are true it keeps track of itemids that are either added to cart or purchased in each row\n",
    "example: if both parameters are set to True and in row 1 items 1105 and 1207 were added to cart and or purchased \n",
    "the target value, y_array, whould have the set {1105, 1207} stored as the ground truth for row 1.\n",
    "Additionally it takes weights for the three event types for a given item, its siblings (items with a common categoryid),\n",
    "and its cousins (itmes with a common parentid (some categoryids have parentids)).\n",
    "Finally it has two additional boolean parameters, realtive and distant relative, that turn the checks for siblings and cousins\n",
    "on and off.\n",
    "It returns the rank matrix, y_vals and itemids\n",
    "'''\n",
    "def get_rank_matrix(e_df=events_df, p_df=properties_df, c_df=category_df, \n",
    "                    y_event_add_to_cart=True, y_event_transaction=True,\n",
    "                    item_view=10, item_add=100, item_purchase=100, \n",
    "                    relative_view=5, relative_add=5, relative_purchase=5, relative=False, \n",
    "                    distant_relative_view=1, distant_relative_add=2, distant_relative_purchase=2, distant_relative=False,\n",
    "                   ):\n",
    "    \n",
    "    products = np.intersect1d(e_df.itemid.unique(), p_df.itemid.unique(), assume_unique=True)\n",
    "    e_df = e_df[e_df.itemid.isin(products)]\n",
    "    p_df = p_df[p_df.itemid.isin(products)]\n",
    "    \n",
    "    visitors = e_df.visitorid.unique()\n",
    "    \n",
    "    rank_matrix = np.zeros((visitors.size, products.size))\n",
    "    \n",
    "    item_idx_dict = dict(zip(products,range(products.size)))\n",
    "\n",
    "    y_vals = [set() for x in range(visitors.size)]\n",
    "    y_events = np.array(['addtocart', 'transaction'])\n",
    "    y_events = y_events[[y_event_add_to_cart, y_event_transaction]]\n",
    "    \n",
    "    print('rank_matrix_size is', rank_matrix.shape)\n",
    "\n",
    "    events_dict = defaultdict(lambda: defaultdict(lambda: []))\n",
    "    for event, visitorid, itemid in e_df.loc[:,('event', 'visitorid', 'itemid')].values:\n",
    "        events_dict[event][visitorid].append(itemid)\n",
    "    \n",
    "    if relative or distant_relative:\n",
    "        common_df = p_df[(p_df.property == 'categoryid')]\n",
    "        common_df.value = common_df.value.astype(int)\n",
    "        \n",
    "        relatives_dict = defaultdict(lambda: set())\n",
    "        for value, itemid in common_df.loc[:,('value', 'itemid')].values:\n",
    "            relatives_dict[value].add(itemid)\n",
    "            \n",
    "        common_dict = common_df.set_index('itemid').to_dict()['value']\n",
    "        \n",
    "        siblings_dict = {}\n",
    "        for itemid, categoryid in common_dict.items():\n",
    "            if categoryid in relatives_dict:\n",
    "                siblings_dict[itemid] = relatives_dict[categoryid] - set([itemid])\n",
    "                \n",
    "        if distant_relative:\n",
    "            category_ids = common_df.value.unique()\n",
    "            c_df = c_df[c_df.categoryid.isin(category_ids)]\n",
    "\n",
    "            parent_dict = defaultdict(lambda: set())\n",
    "            for parentid, categoryid in c_df.loc[:,('parentid', 'categoryid')].values:\n",
    "                parent_dict[parentid].add(categoryid)\n",
    "\n",
    "            union_dict = c_df.set_index('categoryid').to_dict()['parentid']\n",
    "\n",
    "            categoryid_siblings_dict = {}\n",
    "            for categoryid, parentid in union_dict.items():\n",
    "                if parentid in parent_dict:\n",
    "                    categoryid_siblings_dict[categoryid] = parent_dict[parentid] - set([categoryid])\n",
    "\n",
    "            cousins_dict = {}\n",
    "            for itemid, sibling_set in siblings_dict.items():\n",
    "                temp_set = set()\n",
    "                if common_dict[itemid] in categoryid_siblings_dict:\n",
    "                    for uncle in categoryid_siblings_dict[common_dict[itemid]]:\n",
    "                        temp_set.update(relatives_dict[uncle])\n",
    "                cousins_dict[itemid] = temp_set - sibling_set\n",
    "    \n",
    "    events = ['view', 'addtocart', 'transaction']\n",
    "    item_weights = {'view':item_view, 'addtocart':item_add, 'transaction':item_purchase}\n",
    "    relative_weights = {'view':relative_view, 'addtocart':relative_add, 'transaction':relative_purchase}\n",
    "    distant_relative_weights = {'view':distant_relative_view, 'addtocart':distant_relative_add, 'transaction':distant_relative_purchase}\n",
    "    \n",
    "    for row, visitor in tqdm_notebook(enumerate(visitors), total = len(visitors)):\n",
    "        for col, product in enumerate(products):\n",
    "            for event in events:\n",
    "                if visitor in events_dict[event] and product in events_dict[event][visitor]:\n",
    "                    rank_matrix[row,col] += item_weights[event]\n",
    "                    if event in y_events:\n",
    "                        y_vals[row].add(product)\n",
    "                    if relative and product in siblings_dict:\n",
    "                        for sibling in siblings_dict[product]:\n",
    "                            rank_matrix[row, item_idx_dict[sibling]] += relative_weights[event]\n",
    "                    if distant_relative and product in cousins_dict:\n",
    "                        for cousin in cousins_dict[product]:\n",
    "                            rank_matrix[row, item_idx_dict[cousin]] += distant_relative_weights[event]\n",
    "        \n",
    "    return rank_matrix, np.fromiter(item_idx_dict.keys(), dtype=int), y_vals"
   ]
  },
  {
   "cell_type": "code",
   "execution_count": 11,
   "metadata": {},
   "outputs": [],
   "source": [
    "'''\n",
    "This function takes in the rank matrix, the numpy array of itemid's used to create the rank matrix\n",
    "the maximum number of predicted items you want returned for each row and a minimum threhold for rank value.\n",
    "The minimum threhold must be met for any item to be predicted. If it is not met an empty set is returned for that row\n",
    "regardless of the number of predicted items selected.\n",
    "'''\n",
    "def get_y_predict(rank_matrix, item_ids, num_top_vals=2, event_threshold=5):\n",
    "    index_array = np.argpartition(rank_matrix, num_top_vals)[:,-num_top_vals:]\n",
    "    y_predict = [set() for x in range(rank_matrix.shape[0])]\n",
    "    for row, indices in enumerate(index_array):\n",
    "        for idx in indices:\n",
    "            if rank_matrix[row,idx] > event_threshold:\n",
    "                y_predict[row].add(item_ids[idx])\n",
    "    return y_predict"
   ]
  },
  {
   "cell_type": "code",
   "execution_count": 12,
   "metadata": {},
   "outputs": [],
   "source": [
    "def create_recommender(rank_matrix, n_components = 200):\n",
    "    model = NMF(verbose=1, n_components=n_components)\n",
    "    W = model.fit_transform(rank_matrix)\n",
    "    H = model.components_\n",
    "    return np.dot(W,H)"
   ]
  },
  {
   "cell_type": "code",
   "execution_count": 30,
   "metadata": {},
   "outputs": [],
   "source": [
    "def generate_recommendations(recommender, item_ids):\n",
    "    y_predict = [set() for x in range(recommender.shape[0])]\n",
    "    for index,row in tqdm_notebook(enumerate(recommender), total=len(recommender)):\n",
    "        sort_index = np.argsort(row)\n",
    "        for item in sort_index[-40:]:\n",
    "            y_predict[index].add(item_ids[item])\n",
    "    return y_predict"
   ]
  },
  {
   "cell_type": "code",
   "execution_count": 14,
   "metadata": {},
   "outputs": [],
   "source": [
    "'''\n",
    "This function takes in the predicted items and compares them to the \n",
    "actual addtocart and or transaction items (depending on what was selected)\n",
    "it returns both a total hit rate ((correct_empty_predictions + correct_positive_predictions)/prediction_count)\n",
    "and a positive hit rate (correct_positive_predictions/number_of_times_ground_truth_was_not_empty)\n",
    "Note: a correct positive prediction occurs anytime the intersection between the predection set \n",
    "and groundtruth set is not empty thus correctly guessing one of the items in the ground truth set results\n",
    "in being counted as a correct prediction.\n",
    "'''\n",
    "def get_hit_rate(y_vals, y_predict):\n",
    "    hits = 0\n",
    "    both_empty = 0\n",
    "    bought_no_predict = 0\n",
    "    predict_no_bought = 0\n",
    "    for idx in range(len(y_predict)):\n",
    "        if (not y_vals[idx] and not y_predict[idx]):\n",
    "            both_empty += 1\n",
    "        elif y_vals[idx]:\n",
    "            if y_vals[idx].intersection(y_predict[idx]):\n",
    "                hits += 1\n",
    "            else:\n",
    "                bought_no_predict += 1\n",
    "        else:\n",
    "            predict_no_bought += 1\n",
    "    return hits, both_empty, bought_no_predict, predict_no_bought"
   ]
  },
  {
   "cell_type": "code",
   "execution_count": 15,
   "metadata": {},
   "outputs": [],
   "source": [
    "def print_stats(hits, both_empty, bought_no_predict, predict_no_bought):\n",
    "    print(hits, bought_no_predict)\n",
    "    print(predict_no_bought, both_empty)"
   ]
  },
  {
   "cell_type": "code",
   "execution_count": 40,
   "metadata": {},
   "outputs": [
    {
     "output_type": "stream",
     "name": "stdout",
     "text": [
      "rank_matrix_size is (237219, 1125)\n"
     ]
    },
    {
     "output_type": "display_data",
     "data": {
      "text/plain": "HBox(children=(HTML(value=''), FloatProgress(value=0.0, max=237219.0), HTML(value='')))",
      "application/vnd.jupyter.widget-view+json": {
       "version_major": 2,
       "version_minor": 0,
       "model_id": "bc151010887747d89b823c46bc24c53b"
      }
     },
     "metadata": {}
    },
    {
     "output_type": "stream",
     "name": "stdout",
     "text": [
      "\n",
      "rank_matrix_size is (237219, 1125)\n"
     ]
    },
    {
     "output_type": "display_data",
     "data": {
      "text/plain": "HBox(children=(HTML(value=''), FloatProgress(value=0.0, max=237219.0), HTML(value='')))",
      "application/vnd.jupyter.widget-view+json": {
       "version_major": 2,
       "version_minor": 0,
       "model_id": "428ddcca213e41f59a27967038ce542c"
      }
     },
     "metadata": {}
    },
    {
     "output_type": "stream",
     "name": "stdout",
     "text": [
      "\n",
      "rank_matrix_size is (237219, 1125)\n"
     ]
    },
    {
     "output_type": "display_data",
     "data": {
      "text/plain": "HBox(children=(HTML(value=''), FloatProgress(value=0.0, max=237219.0), HTML(value='')))",
      "application/vnd.jupyter.widget-view+json": {
       "version_major": 2,
       "version_minor": 0,
       "model_id": "3aa5365b8f7f43208e389641fe743d27"
      }
     },
     "metadata": {}
    },
    {
     "output_type": "stream",
     "name": "stdout",
     "text": [
      "\n"
     ]
    }
   ],
   "source": [
    "# rank_matrix = get_rank_matrix(e_df=events_df.sample(n=int(.005*events_df.shape[0]), random_state=881))\n",
    "rank_matrix, itemids, y_vals = get_rank_matrix(e_df=get_reduced_events(), relative=True, distant_relative=True, relative_add=0, relative_purchase=0, item_add=0, item_purchase=0, distant_relative_add=0, distant_relative_purchase=0)\n",
    "# rank_matrix = get_rank_matrix(e_df=events_df.sample(n=int(.005*events_df.shape[0]), random_state=881))\n",
    "rank_matrix_no_distant_relatives, itemids, y_vals = get_rank_matrix(e_df=get_reduced_events(), relative=True, distant_relative=False, relative_add=0, relative_purchase=0, item_add=0, item_purchase=0, distant_relative_add=0, distant_relative_purchase=0)\n",
    "# rank_matrix = get_rank_matrix(e_df=events_df.sample(n=int(.005*events_df.shape[0]), random_state=881))\n",
    "rank_matrix_no_relatives, itemids, y_vals = get_rank_matrix(e_df=get_reduced_events(), relative=False, distant_relative=False, relative_add=0, relative_purchase=0, item_add=0, item_purchase=0, distant_relative_add=0, distant_relative_purchase=0)"
   ]
  },
  {
   "cell_type": "code",
   "execution_count": 41,
   "metadata": {},
   "outputs": [
    {
     "output_type": "stream",
     "name": "stdout",
     "text": [
      "violation: 1.0\n",
      "violation: 0.1022519134758174\n",
      "violation: 0.018228809010479338\n",
      "violation: 0.00887817276846446\n",
      "violation: 0.0049321801857485125\n",
      "violation: 0.0035845034506747763\n",
      "violation: 0.002597594468954594\n",
      "violation: 0.0018639082734178724\n",
      "violation: 0.0014343749146378643\n",
      "violation: 0.0011279281968661625\n",
      "violation: 0.0009059341606817207\n",
      "violation: 0.0007509515497726891\n",
      "violation: 0.000642423945747077\n",
      "violation: 0.0005603816849537747\n",
      "violation: 0.0004949080640588795\n",
      "violation: 0.00044015158267704676\n",
      "violation: 0.00039632702810217963\n",
      "violation: 0.0003602753042132363\n",
      "violation: 0.0003318421094169967\n",
      "violation: 0.00030927276740992947\n",
      "violation: 0.0002917965209591764\n",
      "violation: 0.0002767448106277876\n",
      "violation: 0.0002646884934780167\n",
      "violation: 0.000254867600459962\n",
      "violation: 0.00024555421251860405\n",
      "violation: 0.00023587653550414368\n",
      "violation: 0.0002304257289986787\n",
      "violation: 0.00022719920164840918\n",
      "violation: 0.00022495679878101752\n",
      "violation: 0.00022141281284221404\n",
      "violation: 0.00021603326741568673\n",
      "violation: 0.0002093347504390609\n",
      "violation: 0.00020294743022447611\n",
      "violation: 0.00019618054091208645\n",
      "violation: 0.00018907775809114667\n",
      "violation: 0.00018042739710511955\n",
      "violation: 0.0001722721900990431\n",
      "violation: 0.00016498179780016932\n",
      "violation: 0.0001580118288888306\n",
      "violation: 0.00015188175839867796\n",
      "violation: 0.00014635609232749024\n",
      "violation: 0.00014142758180542514\n",
      "violation: 0.00013670433585354885\n",
      "violation: 0.00013268999997210113\n",
      "violation: 0.0001291122450799046\n",
      "violation: 0.0001258026735317967\n",
      "violation: 0.00012272258580006654\n",
      "violation: 0.00011964664709882111\n",
      "violation: 0.00011665989678191021\n",
      "violation: 0.00011376070396531566\n",
      "violation: 0.00011094549946035383\n",
      "violation: 0.00010815396702037815\n",
      "violation: 0.0001054477225883516\n",
      "violation: 0.00010280923920907984\n",
      "violation: 0.0001002046700592956\n",
      "violation: 9.766051084112631e-05\n",
      "Converged at iteration 57\n"
     ]
    }
   ],
   "source": [
    "recommender = create_recommender(rank_matrix)"
   ]
  },
  {
   "cell_type": "code",
   "execution_count": 42,
   "metadata": {},
   "outputs": [],
   "source": [
    "recs = generate_recommendations(recommender, itemids)"
   ]
  },
  {
   "cell_type": "code",
   "execution_count": 43,
   "metadata": {},
   "outputs": [
    {
     "output_type": "execute_result",
     "data": {
      "text/plain": [
       "0.8120411160058737"
      ]
     },
     "metadata": {},
     "execution_count": 43
    }
   ],
   "source": [
    "hits, both_empty, bought_no_predict, predict_no_bought = get_hit_rate(y_vals, recs)\n",
    "hits/(bought_no_predict + hits)"
   ]
  },
  {
   "cell_type": "code",
   "execution_count": 44,
   "metadata": {},
   "outputs": [],
   "source": [
    "recs = generate_recommendations(rank_matrix, itemids)"
   ]
  },
  {
   "cell_type": "code",
   "execution_count": 45,
   "metadata": {},
   "outputs": [
    {
     "output_type": "execute_result",
     "data": {
      "text/plain": [
       "0.8427802251590798"
      ]
     },
     "metadata": {},
     "execution_count": 45
    }
   ],
   "source": [
    "hits, both_empty, bought_no_predict, predict_no_bought = get_hit_rate(y_vals, recs)\n",
    "a = hits/(bought_no_predict + hits)\n",
    "a"
   ]
  },
  {
   "cell_type": "code",
   "execution_count": 46,
   "metadata": {},
   "outputs": [],
   "source": [
    "recs = generate_recommendations(rank_matrix_no_relatives, itemids)"
   ]
  },
  {
   "cell_type": "code",
   "execution_count": 47,
   "metadata": {},
   "outputs": [
    {
     "output_type": "execute_result",
     "data": {
      "text/plain": [
       "0.836808614782183"
      ]
     },
     "metadata": {},
     "execution_count": 47
    }
   ],
   "source": [
    "hits, both_empty, bought_no_predict, predict_no_bought = get_hit_rate(y_vals, recs)\n",
    "b = hits/(bought_no_predict + hits)\n",
    "b"
   ]
  },
  {
   "cell_type": "code",
   "execution_count": 51,
   "metadata": {},
   "outputs": [],
   "source": [
    "recs = generate_recommendations(rank_matrix_no_distant_relatives, itemids)"
   ]
  },
  {
   "cell_type": "code",
   "execution_count": 52,
   "metadata": {},
   "outputs": [],
   "source": [
    "hits, both_empty, bought_no_predict, predict_no_bought = get_hit_rate(y_vals, recs)\n",
    "c =hits/(bought_no_predict + hits)\n",
    "c"
   ]
  },
  {
   "cell_type": "code",
   "execution_count": 50,
   "metadata": {},
   "outputs": [
    {
     "output_type": "execute_result",
     "data": {
      "text/plain": [
       "False"
      ]
     },
     "metadata": {},
     "execution_count": 50
    }
   ],
   "source": [
    "(rank_matrix - rank_matrix_no_distant_relatives).any()"
   ]
  },
  {
   "cell_type": "code",
   "execution_count": 53,
   "metadata": {},
   "outputs": [
    {
     "output_type": "execute_result",
     "data": {
      "text/plain": [
       "0.8427802251590798"
      ]
     },
     "metadata": {},
     "execution_count": 53
    }
   ],
   "source": [
    "c"
   ]
  },
  {
   "cell_type": "code",
   "execution_count": null,
   "metadata": {},
   "outputs": [],
   "source": []
  }
 ],
 "metadata": {
  "kernelspec": {
   "name": "python3",
   "display_name": "Python 3.7.9 64-bit",
   "metadata": {
    "interpreter": {
     "hash": "253588e5b720c4626f0293678f453d2cf4fd73352561ef147b4f7e42d966dfd3"
    }
   }
  },
  "language_info": {
   "codemirror_mode": {
    "name": "ipython",
    "version": 3
   },
   "file_extension": ".py",
   "mimetype": "text/x-python",
   "name": "python",
   "nbconvert_exporter": "python",
   "pygments_lexer": "ipython3",
   "version": "3.7.9"
  }
 },
 "nbformat": 4,
 "nbformat_minor": 4
}

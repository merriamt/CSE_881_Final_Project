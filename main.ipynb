{
 "cells": [
  {
   "cell_type": "code",
   "execution_count": 256,
   "metadata": {},
   "outputs": [],
   "source": [
    "import matplotlib.pyplot as plt\n",
    "%matplotlib inline\n",
    "import numpy as np \n",
    "import pandas as pd # data processing, CSV file I/O (e.g. pd.read_csv)\n",
    "from collections import defaultdict\n",
    "import timeit\n",
    "from IPython.display import display\n",
    "from tqdm import tqdm_notebook\n",
    "from sklearn.decomposition import NMF"
   ]
  },
  {
   "cell_type": "code",
   "execution_count": 257,
   "metadata": {},
   "outputs": [],
   "source": [
    "# load the data\n",
    "df1 = pd.read_csv('item_properties_part1.csv')\n",
    "df2 = pd.read_csv('item_properties_part2.csv')\n",
    "\n",
    "properties_df = pd.concat([df1, df2])\n",
    "events_df = pd.read_csv('events.csv')\n",
    "category_df = pd.read_csv('category_tree.csv')\n",
    "\n",
    "# change timestamp to more useful format\n",
    "properties_df.timestamp = pd.to_datetime(properties_df.loc[:,'timestamp'], unit='ms')\n",
    "events_df.timestamp = pd.to_datetime(events_df.loc[:,'timestamp'], unit='ms')"
   ]
  },
  {
   "cell_type": "code",
   "execution_count": 258,
   "metadata": {},
   "outputs": [
    {
     "data": {
      "text/html": [
       "<div>\n",
       "<style scoped>\n",
       "    .dataframe tbody tr th:only-of-type {\n",
       "        vertical-align: middle;\n",
       "    }\n",
       "\n",
       "    .dataframe tbody tr th {\n",
       "        vertical-align: top;\n",
       "    }\n",
       "\n",
       "    .dataframe thead th {\n",
       "        text-align: right;\n",
       "    }\n",
       "</style>\n",
       "<table border=\"1\" class=\"dataframe\">\n",
       "  <thead>\n",
       "    <tr style=\"text-align: right;\">\n",
       "      <th></th>\n",
       "      <th>timestamp</th>\n",
       "      <th>itemid</th>\n",
       "      <th>property</th>\n",
       "      <th>value</th>\n",
       "    </tr>\n",
       "  </thead>\n",
       "  <tbody>\n",
       "    <tr>\n",
       "      <th>0</th>\n",
       "      <td>2015-06-28 03:00:00</td>\n",
       "      <td>460429</td>\n",
       "      <td>categoryid</td>\n",
       "      <td>1338</td>\n",
       "    </tr>\n",
       "    <tr>\n",
       "      <th>1</th>\n",
       "      <td>2015-09-06 03:00:00</td>\n",
       "      <td>206783</td>\n",
       "      <td>888</td>\n",
       "      <td>1116713 960601 n277.200</td>\n",
       "    </tr>\n",
       "    <tr>\n",
       "      <th>2</th>\n",
       "      <td>2015-08-09 03:00:00</td>\n",
       "      <td>395014</td>\n",
       "      <td>400</td>\n",
       "      <td>n552.000 639502 n720.000 424566</td>\n",
       "    </tr>\n",
       "    <tr>\n",
       "      <th>3</th>\n",
       "      <td>2015-05-10 03:00:00</td>\n",
       "      <td>59481</td>\n",
       "      <td>790</td>\n",
       "      <td>n15360.000</td>\n",
       "    </tr>\n",
       "    <tr>\n",
       "      <th>4</th>\n",
       "      <td>2015-05-17 03:00:00</td>\n",
       "      <td>156781</td>\n",
       "      <td>917</td>\n",
       "      <td>828513</td>\n",
       "    </tr>\n",
       "  </tbody>\n",
       "</table>\n",
       "</div>"
      ],
      "text/plain": [
       "            timestamp  itemid    property                            value\n",
       "0 2015-06-28 03:00:00  460429  categoryid                             1338\n",
       "1 2015-09-06 03:00:00  206783         888          1116713 960601 n277.200\n",
       "2 2015-08-09 03:00:00  395014         400  n552.000 639502 n720.000 424566\n",
       "3 2015-05-10 03:00:00   59481         790                       n15360.000\n",
       "4 2015-05-17 03:00:00  156781         917                           828513"
      ]
     },
     "metadata": {},
     "output_type": "display_data"
    },
    {
     "data": {
      "text/html": [
       "<div>\n",
       "<style scoped>\n",
       "    .dataframe tbody tr th:only-of-type {\n",
       "        vertical-align: middle;\n",
       "    }\n",
       "\n",
       "    .dataframe tbody tr th {\n",
       "        vertical-align: top;\n",
       "    }\n",
       "\n",
       "    .dataframe thead th {\n",
       "        text-align: right;\n",
       "    }\n",
       "</style>\n",
       "<table border=\"1\" class=\"dataframe\">\n",
       "  <thead>\n",
       "    <tr style=\"text-align: right;\">\n",
       "      <th></th>\n",
       "      <th>timestamp</th>\n",
       "      <th>visitorid</th>\n",
       "      <th>event</th>\n",
       "      <th>itemid</th>\n",
       "      <th>transactionid</th>\n",
       "    </tr>\n",
       "  </thead>\n",
       "  <tbody>\n",
       "    <tr>\n",
       "      <th>0</th>\n",
       "      <td>2015-06-02 05:02:12.117</td>\n",
       "      <td>257597</td>\n",
       "      <td>view</td>\n",
       "      <td>355908</td>\n",
       "      <td>NaN</td>\n",
       "    </tr>\n",
       "    <tr>\n",
       "      <th>1</th>\n",
       "      <td>2015-06-02 05:50:14.164</td>\n",
       "      <td>992329</td>\n",
       "      <td>view</td>\n",
       "      <td>248676</td>\n",
       "      <td>NaN</td>\n",
       "    </tr>\n",
       "    <tr>\n",
       "      <th>2</th>\n",
       "      <td>2015-06-02 05:13:19.827</td>\n",
       "      <td>111016</td>\n",
       "      <td>view</td>\n",
       "      <td>318965</td>\n",
       "      <td>NaN</td>\n",
       "    </tr>\n",
       "    <tr>\n",
       "      <th>3</th>\n",
       "      <td>2015-06-02 05:12:35.914</td>\n",
       "      <td>483717</td>\n",
       "      <td>view</td>\n",
       "      <td>253185</td>\n",
       "      <td>NaN</td>\n",
       "    </tr>\n",
       "    <tr>\n",
       "      <th>4</th>\n",
       "      <td>2015-06-02 05:02:17.106</td>\n",
       "      <td>951259</td>\n",
       "      <td>view</td>\n",
       "      <td>367447</td>\n",
       "      <td>NaN</td>\n",
       "    </tr>\n",
       "  </tbody>\n",
       "</table>\n",
       "</div>"
      ],
      "text/plain": [
       "                timestamp  visitorid event  itemid  transactionid\n",
       "0 2015-06-02 05:02:12.117     257597  view  355908            NaN\n",
       "1 2015-06-02 05:50:14.164     992329  view  248676            NaN\n",
       "2 2015-06-02 05:13:19.827     111016  view  318965            NaN\n",
       "3 2015-06-02 05:12:35.914     483717  view  253185            NaN\n",
       "4 2015-06-02 05:02:17.106     951259  view  367447            NaN"
      ]
     },
     "metadata": {},
     "output_type": "display_data"
    },
    {
     "data": {
      "text/html": [
       "<div>\n",
       "<style scoped>\n",
       "    .dataframe tbody tr th:only-of-type {\n",
       "        vertical-align: middle;\n",
       "    }\n",
       "\n",
       "    .dataframe tbody tr th {\n",
       "        vertical-align: top;\n",
       "    }\n",
       "\n",
       "    .dataframe thead th {\n",
       "        text-align: right;\n",
       "    }\n",
       "</style>\n",
       "<table border=\"1\" class=\"dataframe\">\n",
       "  <thead>\n",
       "    <tr style=\"text-align: right;\">\n",
       "      <th></th>\n",
       "      <th>categoryid</th>\n",
       "      <th>parentid</th>\n",
       "    </tr>\n",
       "  </thead>\n",
       "  <tbody>\n",
       "    <tr>\n",
       "      <th>0</th>\n",
       "      <td>1016</td>\n",
       "      <td>213.0</td>\n",
       "    </tr>\n",
       "    <tr>\n",
       "      <th>1</th>\n",
       "      <td>809</td>\n",
       "      <td>169.0</td>\n",
       "    </tr>\n",
       "    <tr>\n",
       "      <th>2</th>\n",
       "      <td>570</td>\n",
       "      <td>9.0</td>\n",
       "    </tr>\n",
       "    <tr>\n",
       "      <th>3</th>\n",
       "      <td>1691</td>\n",
       "      <td>885.0</td>\n",
       "    </tr>\n",
       "    <tr>\n",
       "      <th>4</th>\n",
       "      <td>536</td>\n",
       "      <td>1691.0</td>\n",
       "    </tr>\n",
       "  </tbody>\n",
       "</table>\n",
       "</div>"
      ],
      "text/plain": [
       "   categoryid  parentid\n",
       "0        1016     213.0\n",
       "1         809     169.0\n",
       "2         570       9.0\n",
       "3        1691     885.0\n",
       "4         536    1691.0"
      ]
     },
     "metadata": {},
     "output_type": "display_data"
    }
   ],
   "source": [
    "# first look at data\n",
    "display(properties_df.head())\n",
    "display(events_df.head())\n",
    "display(category_df.head())"
   ]
  },
  {
   "cell_type": "code",
   "execution_count": 259,
   "metadata": {},
   "outputs": [],
   "source": [
    "# We have plenty of rows in properties and only \"property\" values of \"categoryid\" and \"available\" are not hashed\n",
    "# Thus we decide to remove all rows except where \"availalbe\" is 1 or we have the \"categoryid\"\n",
    "properties_df = properties_df.loc[((properties_df.property == \"categoryid\") | ((properties_df.property == \"available\") & (properties_df.value == '1'))),:]"
   ]
  },
  {
   "cell_type": "code",
   "execution_count": 260,
   "metadata": {},
   "outputs": [
    {
     "data": {
      "text/plain": [
       "categoryid    788214\n",
       "available     640553\n",
       "Name: property, dtype: int64"
      ]
     },
     "execution_count": 260,
     "metadata": {},
     "output_type": "execute_result"
    }
   ],
   "source": [
    "properties_df.property.value_counts()"
   ]
  },
  {
   "cell_type": "code",
   "execution_count": 261,
   "metadata": {},
   "outputs": [
    {
     "data": {
      "text/html": [
       "<div>\n",
       "<style scoped>\n",
       "    .dataframe tbody tr th:only-of-type {\n",
       "        vertical-align: middle;\n",
       "    }\n",
       "\n",
       "    .dataframe tbody tr th {\n",
       "        vertical-align: top;\n",
       "    }\n",
       "\n",
       "    .dataframe thead th {\n",
       "        text-align: right;\n",
       "    }\n",
       "</style>\n",
       "<table border=\"1\" class=\"dataframe\">\n",
       "  <thead>\n",
       "    <tr style=\"text-align: right;\">\n",
       "      <th></th>\n",
       "      <th>timestamp</th>\n",
       "      <th>itemid</th>\n",
       "      <th>property</th>\n",
       "      <th>value</th>\n",
       "    </tr>\n",
       "  </thead>\n",
       "  <tbody>\n",
       "    <tr>\n",
       "      <th>0</th>\n",
       "      <td>2015-06-28 03:00:00</td>\n",
       "      <td>460429</td>\n",
       "      <td>categoryid</td>\n",
       "      <td>1338</td>\n",
       "    </tr>\n",
       "    <tr>\n",
       "      <th>82</th>\n",
       "      <td>2015-06-14 03:00:00</td>\n",
       "      <td>316253</td>\n",
       "      <td>available</td>\n",
       "      <td>1</td>\n",
       "    </tr>\n",
       "    <tr>\n",
       "      <th>140</th>\n",
       "      <td>2015-05-24 03:00:00</td>\n",
       "      <td>281245</td>\n",
       "      <td>categoryid</td>\n",
       "      <td>1277</td>\n",
       "    </tr>\n",
       "    <tr>\n",
       "      <th>151</th>\n",
       "      <td>2015-06-28 03:00:00</td>\n",
       "      <td>35575</td>\n",
       "      <td>categoryid</td>\n",
       "      <td>1059</td>\n",
       "    </tr>\n",
       "    <tr>\n",
       "      <th>167</th>\n",
       "      <td>2015-06-28 03:00:00</td>\n",
       "      <td>139939</td>\n",
       "      <td>available</td>\n",
       "      <td>1</td>\n",
       "    </tr>\n",
       "  </tbody>\n",
       "</table>\n",
       "</div>"
      ],
      "text/plain": [
       "              timestamp  itemid    property value\n",
       "0   2015-06-28 03:00:00  460429  categoryid  1338\n",
       "82  2015-06-14 03:00:00  316253   available     1\n",
       "140 2015-05-24 03:00:00  281245  categoryid  1277\n",
       "151 2015-06-28 03:00:00   35575  categoryid  1059\n",
       "167 2015-06-28 03:00:00  139939   available     1"
      ]
     },
     "execution_count": 261,
     "metadata": {},
     "output_type": "execute_result"
    }
   ],
   "source": [
    "properties_df.head()"
   ]
  },
  {
   "cell_type": "code",
   "execution_count": 262,
   "metadata": {},
   "outputs": [
    {
     "name": "stdout",
     "output_type": "stream",
     "text": [
      "na category values categoryid     0\n",
      "parentid      25\n",
      "dtype: int64\n",
      "number of rows in category df 1669\n",
      "unique parent 363\n",
      "unique child 1669\n",
      "child counts for top 20 parent IDs [31, 22, 22, 19, 18, 17, 15, 15, 13, 13, 13, 12, 12, 11, 11, 10, 10, 10, 10, 10]\n",
      "view           2664312\n",
      "addtocart        69332\n",
      "transaction      22457\n",
      "dtype: int64\n"
     ]
    },
    {
     "data": {
      "text/plain": [
       "<matplotlib.axes._subplots.AxesSubplot at 0x18c8f4c6ca0>"
      ]
     },
     "execution_count": 262,
     "metadata": {},
     "output_type": "execute_result"
    },
    {
     "data": {
      "image/png": "[encoded data removed]",
      "text/plain": [
       "<Figure size 432x288 with 1 Axes>"
      ]
     },
     "metadata": {
      "needs_background": "light"
     },
     "output_type": "display_data"
    }
   ],
   "source": [
    "# Data exploration\n",
    "# check for missing values and look at histograms and counts\n",
    "\n",
    "# how many na values in category parent and child columns - there are 25 categories with no parent\n",
    "print('na category values', category_df.isnull().sum(axis = 0))\n",
    "\n",
    "# number of rows in category df\n",
    "print('number of rows in category df', category_df.shape[0])\n",
    "\n",
    "# how many unique parent category ids\n",
    "print('unique parent', category_df['parentid'].unique().size)\n",
    "\n",
    "# how many unique child category ids\n",
    "print('unique child', category_df['categoryid'].unique().size)\n",
    "\n",
    "# how many children ids to the top parent categories have\n",
    "n = 20\n",
    "counts = pd.value_counts(category_df['parentid'].values)\n",
    "print(\"child counts for top {} parent IDs\".format(n), sorted(counts, reverse=True)[:n])\n",
    "\n",
    "# clearly events are dominated by views and there are no missing values in the events column\n",
    "counts = pd.value_counts(events_df['event'].values)\n",
    "print(counts)\n",
    "counts.plot.bar(rot=0)"
   ]
  },
  {
   "cell_type": "code",
   "execution_count": 263,
   "metadata": {},
   "outputs": [],
   "source": [
    "# since there are only 25 rows with nan values in category_df we decide to eliminate them\n",
    "category_df = category_df.dropna()"
   ]
  },
  {
   "cell_type": "code",
   "execution_count": 340,
   "metadata": {},
   "outputs": [
    {
     "data": {
      "image/png": "[encoded data removed]",
      "text/plain": [
       "<Figure size 432x288 with 1 Axes>"
      ]
     },
     "metadata": {
      "needs_background": "light"
     },
     "output_type": "display_data"
    },
    {
     "data": {
      "image/png": "[encoded data removed]",
      "text/plain": [
       "<Figure size 432x288 with 1 Axes>"
      ]
     },
     "metadata": {
      "needs_background": "light"
     },
     "output_type": "display_data"
    },
    {
     "data": {
      "image/png": "[encoded data removed]",
      "text/plain": [
       "<Figure size 432x288 with 1 Axes>"
      ]
     },
     "metadata": {
      "needs_background": "light"
     },
     "output_type": "display_data"
    },
    {
     "data": {
      "image/png": "[encoded data removed]",
      "text/plain": [
       "<Figure size 432x288 with 1 Axes>"
      ]
     },
     "metadata": {
      "needs_background": "light"
     },
     "output_type": "display_data"
    },
    {
     "data": {
      "image/png": "[encoded data removed]",
      "text/plain": [
       "<Figure size 432x288 with 1 Axes>"
      ]
     },
     "metadata": {
      "needs_background": "light"
     },
     "output_type": "display_data"
    },
    {
     "data": {
      "image/png": "[encoded data removed]",
      "text/plain": [
       "<Figure size 432x288 with 1 Axes>"
      ]
     },
     "metadata": {
      "needs_background": "light"
     },
     "output_type": "display_data"
    },
    {
     "data": {
      "image/png": "[encoded data removed]",
      "text/plain": [
       "<Figure size 432x288 with 1 Axes>"
      ]
     },
     "metadata": {
      "needs_background": "light"
     },
     "output_type": "display_data"
    },
    {
     "data": {
      "text/plain": [
       "<function matplotlib.pyplot.close(fig=None)>"
      ]
     },
     "execution_count": 340,
     "metadata": {},
     "output_type": "execute_result"
    }
   ],
   "source": [
    "# we would like to know if days of the week affect puchasing\n",
    "events_df.timestamp.dt.day_name()\n",
    "counts = pd.value_counts(events_df['event'].values)\n",
    "days = ['Sunday', 'Monday', 'Tuesday', 'Wednesday', 'Thursday', 'Friday', 'Saturday']\n",
    "x = [1,2,3,4,5,6,7]\n",
    "view = []\n",
    "addtocart = []\n",
    "transaction = []\n",
    "number_of_visitors = []\n",
    "not_buyers = []\n",
    "for day in days:\n",
    "    counts = pd.value_counts(events_df.loc[events_df.timestamp.dt.day_name() == day,'event'].values)\n",
    "    number_of_visitors.append(sum(events_df.timestamp.dt.day_name() == day))\n",
    "#     print(counts)\n",
    "#     print(\"not buyers {}\".format(number_of_visitors[-1]))\n",
    "    view.append(counts['view'])\n",
    "    addtocart.append(counts['addtocart'])\n",
    "    transaction.append(counts['transaction'])\n",
    "    not_buyers.append(number_of_visitors[-1] - transaction[-1])\n",
    "    \n",
    "\n",
    "plt.plot(x, addtocart, label='addtocart')\n",
    "plt.plot(x, transaction, label='transaction')\n",
    "plt.xticks(x,labels=days, rotation='vertical')\n",
    "plt.legend()\n",
    "plt.show()\n",
    "plt.close\n",
    "\n",
    "plt.plot(x, view, label='view')\n",
    "plt.xticks(x,labels=days, rotation='vertical')\n",
    "plt.legend()\n",
    "plt.show()\n",
    "plt.close\n",
    "\n",
    "plt.plot(x, not_buyers, label='not buyers')\n",
    "plt.xticks(x,labels=days, rotation='vertical')\n",
    "plt.legend()\n",
    "plt.show()\n",
    "plt.close\n",
    "\n",
    "plt.plot(x, np.log(np.array(transaction)), label='buyers log scale')\n",
    "plt.plot(x, np.log(np.array(not_buyers)), label='not buyers log scale')\n",
    "plt.xticks(x,labels=days, rotation='vertical')\n",
    "plt.legend()\n",
    "plt.show()\n",
    "plt.close\n",
    "\n",
    "plt.plot(x, np.array(transaction)/np.array(not_buyers), label='ratio buy/(not buy)')\n",
    "plt.xticks(x,labels=days, rotation='vertical')\n",
    "plt.legend()\n",
    "plt.show()\n",
    "plt.close\n",
    "\n",
    "plt.plot(x, np.array(transaction)/np.array(addtocart), label='ratio buy/addtocart')\n",
    "plt.xticks(x,labels=days, rotation='vertical')\n",
    "plt.legend()\n",
    "plt.show()\n",
    "plt.close\n",
    "\n",
    "\n",
    "plt.plot(x, np.array(transaction)/np.array(view), label='ratio buy/view')\n",
    "plt.xticks(x,labels=days, rotation='vertical')\n",
    "plt.legend()\n",
    "plt.show()\n",
    "plt.close"
   ]
  },
  {
   "cell_type": "code",
   "execution_count": 264,
   "metadata": {},
   "outputs": [],
   "source": [
    "# we have too many items at the moment - causing too many columns in our ranking matrix\n",
    "# we determine to remove items that have been viewed fewer than 30 times by all visitors and that have not been added to a cart or purchased\n",
    "'''\n",
    "This function takes in events and properties data frames and minimum thresholds for the \"event\"'s, \"view\", \"addtocart\", \n",
    "and \"transaction\" as well as a list for days of the week and returns a data frames that only includes \"itemid\"'s, products, that have been viewed, added, or purchased\n",
    "enough times to meet one of the minimum threholds within the days of the week in the days of week list. Basically, we are only looking at items \n",
    "that meet a minimum activity requirement. Additionally, we want to be able to separate based on days of the week as much as possible.\n",
    "Since we have to cut some items for both memory and compuational efficiency it made the most sense to keep \"hot\" itmes for which rankings\n",
    "would be the most valuable.\n",
    "'''\n",
    "def get_reduced_events(e_df=events_df, p_df=properties_df, view_threshold =  200, add_to_cart_threshold = 40, transaction_threshold = 20,\n",
    "                      days = ['Sunday', 'Monday', 'Tuesday', 'Wednesday', 'Thursday', 'Friday', 'Saturday']):\n",
    "    view_counts = pd.value_counts(e_df.loc[e_df.event == 'view', 'itemid'].values)\n",
    "    add_to_cart_counts = pd.value_counts(e_df.loc[e_df.event == 'addtocart', 'itemid'].values)\n",
    "    transaction_counts = pd.value_counts(e_df.loc[e_df.event == 'transaction', 'itemid'].values)\n",
    "    keep_view = view_counts.loc[(view_counts.values >= view_threshold)]\n",
    "    keep_add_to_cart = add_to_cart_counts.loc[(add_to_cart_counts.values >= add_to_cart_threshold)]\n",
    "    keep_transaction = transaction_counts.loc[(transaction_counts.values >= transaction_threshold)]\n",
    "    events_reduced_df = e_df.loc[((e_df.timestamp.dt.day_name().isin(days)) & ((e_df.itemid.isin(keep_view.index)) | (e_df.itemid.isin(keep_add_to_cart.index)) | (e_df.itemid.isin(keep_transaction.index)))),:].copy(deep=True)\n",
    "    properties_reduced_df = p_df.loc[p_df.timestamp.dt.day_name().isin(days),:].copy(deep=True)\n",
    "    return events_reduced_df, properties_reduced_df"
   ]
  },
  {
   "cell_type": "code",
   "execution_count": 265,
   "metadata": {},
   "outputs": [],
   "source": [
    "'''\n",
    "This fuction takes in the events, properties, and category data frames.\n",
    "It also takes two boolean parameters for addtocart and transaction events\n",
    "when these values are true it keeps track of itemids that are either added to cart or purchased in each row\n",
    "example: if both parameters are set to True and in row 1 items 1105 and 1207 were added to cart and or purchased \n",
    "the target value, y_array, whould have the set {1105, 1207} stored as the ground truth for row 1.\n",
    "Additionally it takes weights for the three event types for a given item, its siblings (items with a common categoryid),\n",
    "and its cousins (itmes with a common parentid (some categoryids have parentids)).\n",
    "Finally it has two additional boolean parameters, realtive and distant relative, that turn the checks for siblings and cousins\n",
    "on and off.\n",
    "It returns the rank matrix, y_vals and itemids\n",
    "'''\n",
    "def get_rank_matrix(e_df=events_df, p_df=properties_df, c_df=category_df, \n",
    "                    y_event_add_to_cart=True, y_event_transaction=True,\n",
    "                    item_view=10, item_add=100, item_purchase=100, \n",
    "                    relative_view=5, relative_add=5, relative_purchase=5, relative=False, \n",
    "                    distant_relative_view=1, distant_relative_add=2, distant_relative_purchase=2, distant_relative=False,\n",
    "                   ):\n",
    "    \n",
    "    products = np.intersect1d(e_df.itemid.unique(), p_df.itemid.unique(), assume_unique=True)\n",
    "    e_df = e_df.loc[(e_df.itemid.isin(products)),:].copy(deep=True)\n",
    "    p_df = p_df.loc[(p_df.itemid.isin(products)),:].copy(deep=True)\n",
    "    \n",
    "    visitors = e_df.visitorid.unique()\n",
    "    \n",
    "    rank_matrix = np.zeros((visitors.size, products.size))\n",
    "    \n",
    "    item_idx_dict = dict(zip(products,range(products.size)))\n",
    "\n",
    "    y_vals = [set() for x in range(visitors.size)]\n",
    "    y_events = np.array(['addtocart', 'transaction'])\n",
    "    y_events = y_events[[y_event_add_to_cart, y_event_transaction]]\n",
    "    \n",
    "    print('rank_matrix_size is', rank_matrix.shape)\n",
    "\n",
    "    events_dict = defaultdict(lambda: defaultdict(lambda: []))\n",
    "    for event, visitorid, itemid in e_df.loc[:,('event', 'visitorid', 'itemid')].values:\n",
    "        events_dict[event][visitorid].append(itemid)\n",
    "    \n",
    "    if relative or distant_relative:\n",
    "        common_df = p_df.loc[(p_df.property == 'categoryid'),:].copy(deep=True)\n",
    "        common_df.value = common_df.copy(deep=True).value.astype(int)\n",
    "        \n",
    "        relatives_dict = defaultdict(lambda: set())\n",
    "        for value, itemid in common_df.loc[:,('value', 'itemid')].values:\n",
    "            relatives_dict[value].add(itemid)\n",
    "            \n",
    "        common_dict = common_df.set_index('itemid').to_dict()['value']\n",
    "        \n",
    "        siblings_dict = {}\n",
    "        for itemid, categoryid in common_dict.items():\n",
    "            if categoryid in relatives_dict:\n",
    "                siblings_dict[itemid] = relatives_dict[categoryid] - set([itemid])\n",
    "                \n",
    "        if distant_relative:\n",
    "            category_ids = common_df.value.unique()\n",
    "            c_df = c_df.loc[(c_df.categoryid.isin(category_ids)),:].copy(deep=True)\n",
    "\n",
    "            parent_dict = defaultdict(lambda: set())\n",
    "            for parentid, categoryid in c_df.loc[:,('parentid', 'categoryid')].values:\n",
    "                parent_dict[parentid].add(categoryid)\n",
    "\n",
    "            union_dict = c_df.set_index('categoryid').to_dict()['parentid']\n",
    "\n",
    "            categoryid_siblings_dict = {}\n",
    "            for categoryid, parentid in union_dict.items():\n",
    "                if parentid in parent_dict:\n",
    "                    categoryid_siblings_dict[categoryid] = parent_dict[parentid] - set([categoryid])\n",
    "\n",
    "            cousins_dict = {}\n",
    "            for itemid, sibling_set in siblings_dict.items():\n",
    "                temp_set = set()\n",
    "                if common_dict[itemid] in categoryid_siblings_dict:\n",
    "                    for uncle in categoryid_siblings_dict[common_dict[itemid]]:\n",
    "                        temp_set.update(relatives_dict[uncle])\n",
    "                cousins_dict[itemid] = temp_set - sibling_set\n",
    "    \n",
    "    events = ['view', 'addtocart', 'transaction']\n",
    "    item_weights = {'view':item_view, 'addtocart':item_add, 'transaction':item_purchase}\n",
    "    relative_weights = {'view':relative_view, 'addtocart':relative_add, 'transaction':relative_purchase}\n",
    "    distant_relative_weights = {'view':distant_relative_view, 'addtocart':distant_relative_add, 'transaction':distant_relative_purchase}\n",
    "    \n",
    "    for row, visitor in tqdm_notebook(enumerate(visitors), total = len(visitors)):\n",
    "        for col, product in enumerate(products):\n",
    "            for event in events:\n",
    "                if visitor in events_dict[event] and product in events_dict[event][visitor]:\n",
    "                    rank_matrix[row,col] += item_weights[event]\n",
    "                    if event in y_events:\n",
    "                        y_vals[row].add(product)\n",
    "                    if relative and product in siblings_dict:\n",
    "                        for sibling in siblings_dict[product]:\n",
    "                            rank_matrix[row, item_idx_dict[sibling]] += relative_weights[event]\n",
    "                    if distant_relative and product in cousins_dict:\n",
    "                        for cousin in cousins_dict[product]:\n",
    "                            rank_matrix[row, item_idx_dict[cousin]] += distant_relative_weights[event]\n",
    "        \n",
    "    return rank_matrix, np.fromiter(item_idx_dict.keys(), dtype=int), y_vals"
   ]
  },
  {
   "cell_type": "code",
   "execution_count": 266,
   "metadata": {},
   "outputs": [],
   "source": [
    "'''\n",
    "This function takes in the rank matrix, the numpy array of itemid's used to create the rank matrix\n",
    "the maximum number of predicted items you want returned for each row and a minimum threhold for rank value.\n",
    "The minimum threhold must be met for any item to be predicted. If it is not met an empty set is returned for that row\n",
    "regardless of the number of predicted items selected.\n",
    "'''\n",
    "def get_y_predict(rank_matrix, item_ids, num_top_vals=2, event_threshold=5):\n",
    "    index_array = np.argpartition(rank_matrix, num_top_vals)[:,-num_top_vals:]\n",
    "    y_predict = [set() for x in range(rank_matrix.shape[0])]\n",
    "    for row, indices in enumerate(index_array):\n",
    "        for idx in indices:\n",
    "            if rank_matrix[row,idx] > event_threshold:\n",
    "                y_predict[row].add(item_ids[idx])\n",
    "    return y_predict"
   ]
  },
  {
   "cell_type": "code",
   "execution_count": 267,
   "metadata": {},
   "outputs": [],
   "source": [
    "def create_recommender(rank_matrix, n_components = 50):\n",
    "    model = NMF(verbose=1, n_components=n_components)\n",
    "    W = model.fit_transform(rank_matrix)\n",
    "    H = model.components_\n",
    "    return np.dot(W,H)"
   ]
  },
  {
   "cell_type": "code",
   "execution_count": 268,
   "metadata": {},
   "outputs": [],
   "source": [
    "def generate_recommendations(recommender, item_ids):\n",
    "    y_predict = [set() for x in range(recommender.shape[0])]\n",
    "    for index,row in tqdm_notebook(enumerate(recommender), total=len(recommender)):\n",
    "        sort_index = np.argsort(row)\n",
    "        for item in sort_index[-40:]:\n",
    "            y_predict[index].add(item_ids[item])\n",
    "    return y_predict"
   ]
  },
  {
   "cell_type": "code",
   "execution_count": 269,
   "metadata": {},
   "outputs": [],
   "source": [
    "'''\n",
    "This function takes in the predicted items and compares them to the \n",
    "actual addtocart and or transaction items (depending on what was selected)\n",
    "it returns both a total hit rate ((correct_empty_predictions + correct_positive_predictions)/prediction_count)\n",
    "and a positive hit rate (correct_positive_predictions/number_of_times_ground_truth_was_not_empty)\n",
    "Note: a correct positive prediction occurs anytime the intersection between the predection set \n",
    "and groundtruth set is not empty thus correctly guessing one of the items in the ground truth set results\n",
    "in being counted as a correct prediction.\n",
    "'''\n",
    "def get_hit_rate(y_vals, y_predict):\n",
    "    hits = 0\n",
    "    both_empty = 0\n",
    "    bought_no_predict = 0\n",
    "    predict_no_bought = 0\n",
    "    for idx in range(len(y_predict)):\n",
    "        if (not y_vals[idx] and not y_predict[idx]):\n",
    "            both_empty += 1\n",
    "        elif y_vals[idx]:\n",
    "            if y_vals[idx].intersection(y_predict[idx]):\n",
    "                hits += 1\n",
    "            else:\n",
    "                bought_no_predict += 1\n",
    "        else:\n",
    "            predict_no_bought += 1\n",
    "    return hits, both_empty, bought_no_predict, predict_no_bought"
   ]
  },
  {
   "cell_type": "code",
   "execution_count": 270,
   "metadata": {},
   "outputs": [],
   "source": [
    "def print_stats(hits, both_empty, bought_no_predict, predict_no_bought):\n",
    "    print(hits, bought_no_predict)\n",
    "    print(predict_no_bought, both_empty)"
   ]
  },
  {
   "cell_type": "code",
   "execution_count": null,
   "metadata": {},
   "outputs": [
    {
     "name": "stdout",
     "output_type": "stream",
     "text": [
      "rank_matrix_size is (237219, 1125)\n"
     ]
    },
    {
     "name": "stderr",
     "output_type": "stream",
     "text": [
      "<ipython-input-265-2565c52d33ba>:83: TqdmDeprecationWarning: This function will be removed in tqdm==5.0.0\n",
      "Please use `tqdm.notebook.tqdm` instead of `tqdm.tqdm_notebook`\n",
      "  for row, visitor in tqdm_notebook(enumerate(visitors), total = len(visitors)):\n"
     ]
    },
    {
     "data": {
      "application/vnd.jupyter.widget-view+json": {
       "model_id": "4697606579ef4dafb4ef7405c276c69f",
       "version_major": 2,
       "version_minor": 0
      },
      "text/plain": [
       "HBox(children=(FloatProgress(value=0.0, max=237219.0), HTML(value='')))"
      ]
     },
     "metadata": {},
     "output_type": "display_data"
    }
   ],
   "source": [
    "reduced_e_df, reduced_p_df = get_reduced_events()\n",
    "# rank_matrix = get_rank_matrix(e_df=events_df.sample(n=int(.005*events_df.shape[0]), random_state=881))\n",
    "rank_matrix, itemids, y_vals = get_rank_matrix(e_df=reduced_e_df, p_df=reduced_p_df, relative=True, distant_relative=True, relative_add=0, relative_purchase=0, item_add=0, item_purchase=0, distant_relative_add=0, distant_relative_purchase=0)\n",
    "# rank_matrix = get_rank_matrix(e_df=events_df.sample(n=int(.005*events_df.shape[0]), random_state=881))\n",
    "rank_matrix_no_distant_relatives, itemids, y_vals = get_rank_matrix(e_df=reduced_e_df, p_df=reduced_p_df, relative=True, distant_relative=False, relative_add=0, relative_purchase=0, item_add=0, item_purchase=0, distant_relative_add=0, distant_relative_purchase=0)\n",
    "# rank_matrix = get_rank_matrix(e_df=events_df.sample(n=int(.005*events_df.shape[0]), random_state=881))\n",
    "rank_matrix_no_relatives, itemids, y_vals = get_rank_matrix(e_df=reduced_e_df, p_df=reduced_p_df, relative=False, distant_relative=False, relative_add=0, relative_purchase=0, item_add=0, item_purchase=0, distant_relative_add=0, distant_relative_purchase=0)"
   ]
  },
  {
   "cell_type": "code",
   "execution_count": 17,
   "metadata": {},
   "outputs": [
    {
     "name": "stdout",
     "output_type": "stream",
     "text": [
      "violation: 1.0\n",
      "violation: 0.09008997388896264\n",
      "violation: 0.028537218207368615\n",
      "violation: 0.015283818699460112\n",
      "violation: 0.006244506730191577\n",
      "violation: 0.003620382659680909\n",
      "violation: 0.0025896209832091603\n",
      "violation: 0.0021610184847658132\n",
      "violation: 0.0020729363876573247\n",
      "violation: 0.0020369566475193384\n",
      "violation: 0.0019766130982818205\n",
      "violation: 0.0018375095150221087\n",
      "violation: 0.0016149019702066667\n",
      "violation: 0.001360067616237592\n",
      "violation: 0.0011269285351876988\n",
      "violation: 0.0009373095696799618\n",
      "violation: 0.0007926001394366416\n",
      "violation: 0.0006853540424655603\n",
      "violation: 0.0006062879744338646\n",
      "violation: 0.0005542271023560266\n",
      "violation: 0.0005071953979042146\n",
      "violation: 0.00047018406345742834\n",
      "violation: 0.00043934048434703907\n",
      "violation: 0.0004125348154419259\n",
      "violation: 0.0003895219185946414\n",
      "violation: 0.00036979474933552555\n",
      "violation: 0.0003526640428479807\n",
      "violation: 0.0003364011116117126\n",
      "violation: 0.0003220889947017328\n",
      "violation: 0.00031019447877967066\n",
      "violation: 0.0003019213472415795\n",
      "violation: 0.00029670271442411316\n",
      "violation: 0.0002932649429665419\n",
      "violation: 0.0002908181689799704\n",
      "violation: 0.0002886444900778641\n",
      "violation: 0.00028503188495875416\n",
      "violation: 0.00027862897647962123\n",
      "violation: 0.0002699955863660083\n",
      "violation: 0.0002593029802561896\n",
      "violation: 0.000247334662321079\n",
      "violation: 0.00023509622692349655\n",
      "violation: 0.00022335373362506792\n",
      "violation: 0.00021280471862651165\n",
      "violation: 0.00020364594471438245\n",
      "violation: 0.00019607358921551221\n",
      "violation: 0.00018974360596029377\n",
      "violation: 0.00018421712271515477\n",
      "violation: 0.00017943247091172675\n",
      "violation: 0.0001753608954921898\n",
      "violation: 0.00017171296356762342\n",
      "violation: 0.00016856866847631804\n",
      "violation: 0.00016566496250358588\n",
      "violation: 0.00016304386832722908\n",
      "violation: 0.00016063864915781174\n",
      "violation: 0.00015848590229781295\n",
      "violation: 0.0001564333475495177\n",
      "violation: 0.00015453479277876585\n",
      "violation: 0.0001527695652514503\n",
      "violation: 0.00015108447077238479\n",
      "violation: 0.0001494705828827476\n",
      "violation: 0.00014792859898353185\n",
      "violation: 0.00014654758110459125\n",
      "violation: 0.00014524665697229636\n",
      "violation: 0.0001438029550564476\n",
      "violation: 0.00014253962896897853\n",
      "violation: 0.00014137348790134056\n",
      "violation: 0.00014025654234750868\n",
      "violation: 0.00013922682284799693\n",
      "violation: 0.0001382223442315062\n",
      "violation: 0.00013728511024900379\n",
      "violation: 0.00013641265743746567\n",
      "violation: 0.00013557162940658305\n",
      "violation: 0.00013480566204942423\n",
      "violation: 0.00013411163547549925\n",
      "violation: 0.00013351763462955774\n",
      "violation: 0.00013297747814170467\n",
      "violation: 0.00013252333507245717\n",
      "violation: 0.00013205732826900317\n",
      "violation: 0.0001315819954020127\n",
      "violation: 0.00013141450176350726\n",
      "violation: 0.00013113805520904322\n",
      "violation: 0.00013098727083079892\n",
      "violation: 0.00013069128857453493\n",
      "violation: 0.00013034922554866626\n",
      "violation: 0.00013014514531907627\n",
      "violation: 0.00012988120282162856\n",
      "violation: 0.00012977389394578452\n",
      "violation: 0.0001294018639246686\n",
      "violation: 0.00012883088929201405\n",
      "violation: 0.0001287628513256259\n",
      "violation: 0.00012884671892617682\n",
      "violation: 0.00012894449003936602\n",
      "violation: 0.00012910512080195892\n",
      "violation: 0.00012944611809764196\n",
      "violation: 0.00012981772821632256\n",
      "violation: 0.00013024942334357358\n",
      "violation: 0.00013067036610299175\n",
      "violation: 0.00013094241857791058\n",
      "violation: 0.00013093353442240963\n",
      "violation: 0.00013071799029604355\n",
      "violation: 0.00013079494838299745\n",
      "violation: 0.00013026619511040518\n",
      "violation: 0.0001294078071927131\n",
      "violation: 0.0001259685260868376\n",
      "violation: 0.00012395589659365943\n",
      "violation: 0.0001222188688441739\n",
      "violation: 0.00012053493196641814\n",
      "violation: 0.00011919143531414311\n",
      "violation: 0.0001175288756452998\n",
      "violation: 0.00011621165082943299\n",
      "violation: 0.0001152027130381915\n",
      "violation: 0.00011424487935991016\n",
      "violation: 0.00011336573338672617\n",
      "violation: 0.00011228224912264514\n",
      "violation: 0.00011123349426446799\n",
      "violation: 0.0001098165595915392\n",
      "violation: 0.0001086707124586102\n",
      "violation: 0.00010755161931804748\n",
      "violation: 0.0001063752498500552\n",
      "violation: 0.00010509272931972201\n",
      "violation: 0.00010368864688283579\n",
      "violation: 0.00010211964372671655\n",
      "violation: 0.00010028930092174647\n",
      "violation: 9.772777666082953e-05\n",
      "Converged at iteration 125\n"
     ]
    }
   ],
   "source": [
    "recommender = create_recommender(rank_matrix)"
   ]
  },
  {
   "cell_type": "code",
   "execution_count": 18,
   "metadata": {},
   "outputs": [
    {
     "data": {
      "application/vnd.jupyter.widget-view+json": {
       "model_id": "f7a25855504e4dc597d09f1c666ba9e3",
       "version_major": 2,
       "version_minor": 0
      },
      "text/plain": [
       "HBox(children=(HTML(value=''), FloatProgress(value=0.0, max=237219.0), HTML(value='')))"
      ]
     },
     "metadata": {},
     "output_type": "display_data"
    },
    {
     "name": "stdout",
     "output_type": "stream",
     "text": [
      "\n"
     ]
    }
   ],
   "source": [
    "recs = generate_recommendations(recommender, itemids)"
   ]
  },
  {
   "cell_type": "code",
   "execution_count": 19,
   "metadata": {},
   "outputs": [
    {
     "data": {
      "text/plain": [
       "0.8211453744493392"
      ]
     },
     "execution_count": 43,
     "metadata": {},
     "output_type": "execute_result"
    }
   ],
   "source": [
    "hits, both_empty, bought_no_predict, predict_no_bought = get_hit_rate(y_vals, recs)\n",
    "hits/(bought_no_predict + hits)"
   ]
  },
  {
   "cell_type": "code",
   "execution_count": 50,
   "metadata": {},
   "outputs": [
    {
     "data": {
      "application/vnd.jupyter.widget-view+json": {
       "model_id": "830e297355ca4a5ab48a0697a075ae6e",
       "version_major": 2,
       "version_minor": 0
      },
      "text/plain": [
       "HBox(children=(HTML(value=''), FloatProgress(value=0.0, max=237219.0), HTML(value='')))"
      ]
     },
     "metadata": {},
     "output_type": "display_data"
    },
    {
     "name": "stdout",
     "output_type": "stream",
     "text": [
      "\n"
     ]
    }
   ],
   "source": [
    "recs = generate_recommendations(rank_matrix, itemids)"
   ]
  },
  {
   "cell_type": "code",
   "execution_count": 51,
   "metadata": {},
   "outputs": [
    {
     "data": {
      "text/plain": [
       "0.8448360254527656"
      ]
     },
     "execution_count": 45,
     "metadata": {},
     "output_type": "execute_result"
    }
   ],
   "source": [
    "hits, both_empty, bought_no_predict, predict_no_bought = get_hit_rate(y_vals, recs)\n",
    "a = hits/(bought_no_predict + hits)\n",
    "a"
   ]
  },
  {
   "cell_type": "code",
   "execution_count": 24,
   "metadata": {},
   "outputs": [
    {
     "data": {
      "application/vnd.jupyter.widget-view+json": {
       "model_id": "d00ba7d0638c43a1af79560283b9b10f",
       "version_major": 2,
       "version_minor": 0
      },
      "text/plain": [
       "HBox(children=(HTML(value=''), FloatProgress(value=0.0, max=237219.0), HTML(value='')))"
      ]
     },
     "metadata": {},
     "output_type": "display_data"
    },
    {
     "name": "stdout",
     "output_type": "stream",
     "text": [
      "\n"
     ]
    }
   ],
   "source": [
    "recs = generate_recommendations(rank_matrix_no_distant_relatives, itemids)"
   ]
  },
  {
   "cell_type": "code",
   "execution_count": 25,
   "metadata": {},
   "outputs": [
    {
     "data": {
      "text/plain": [
       "0.8427802251590798"
      ]
     },
     "execution_count": 47,
     "metadata": {},
     "output_type": "execute_result"
    }
   ],
   "source": [
    "hits, both_empty, bought_no_predict, predict_no_bought = get_hit_rate(y_vals, recs)\n",
    "c =hits/(bought_no_predict + hits)\n",
    "c"
   ]
  },
  {
   "cell_type": "code",
   "execution_count": 22,
   "metadata": {},
   "outputs": [
    {
     "data": {
      "application/vnd.jupyter.widget-view+json": {
       "model_id": "987de3d7af0941c5bab564e0a8029ef5",
       "version_major": 2,
       "version_minor": 0
      },
      "text/plain": [
       "HBox(children=(HTML(value=''), FloatProgress(value=0.0, max=237219.0), HTML(value='')))"
      ]
     },
     "metadata": {},
     "output_type": "display_data"
    },
    {
     "name": "stdout",
     "output_type": "stream",
     "text": [
      "\n"
     ]
    }
   ],
   "source": [
    "recs = generate_recommendations(rank_matrix_no_relatives, itemids)"
   ]
  },
  {
   "cell_type": "code",
   "execution_count": 23,
   "metadata": {},
   "outputs": [
    {
     "data": {
      "text/plain": [
       "0.836808614782183"
      ]
     },
     "execution_count": 23,
     "metadata": {},
     "output_type": "execute_result"
    }
   ],
   "source": [
    "hits, both_empty, bought_no_predict, predict_no_bought = get_hit_rate(y_vals, recs)\n",
    "b = hits/(bought_no_predict + hits)\n",
    "b"
   ]
  },
  {
   "cell_type": "code",
   "execution_count": 58,
   "metadata": {},
   "outputs": [],
   "source": [
    "reduced_matrix = rank_matrix\n",
    "indices = np.where(np.isfinite(reduced_matrix).ravel())[0]\n",
    "to_replace = np.random.permutation(indices)[:int(indices.size * 0.1)]\n",
    "reduced_matrix[np.unravel_index(to_replace, reduced_matrix.shape)] = 0"
   ]
  },
  {
   "cell_type": "code",
   "execution_count": 59,
   "metadata": {},
   "outputs": [
    {
     "data": {
      "text/plain": [
       "0.5595692608908468"
      ]
     },
     "execution_count": 50,
     "metadata": {},
     "output_type": "execute_result"
    }
   ],
   "source": [
    "recs = generate_recommendations(reduced_matrix, itemids)\n",
    "hits, both_empty, bought_no_predict, predict_no_bought = get_hit_rate(y_vals, recs)\n",
    "d = hits/(bought_no_predict + hits)\n",
    "d"
   ]
  },
  {
   "cell_type": "code",
   "execution_count": 65,
   "metadata": {},
   "outputs": [
    {
     "data": {
      "text/plain": [
       "0.6581497797356828"
      ]
     },
     "execution_count": 53,
     "metadata": {},
     "output_type": "execute_result"
    }
   ],
   "source": [
    "recommender = create_recommender(reduced_matrix, n_components=200)\n",
    "recs = generate_recommendations(recommender, itemids)\n",
    "hits, both_empty, bought_no_predict, predict_no_bought = get_hit_rate(y_vals, recs)\n",
    "e = hits/(bought_no_predict + hits)\n",
    "e"
   ]
  },
  {
   "cell_type": "code",
   "execution_count": null,
   "metadata": {},
   "outputs": [],
   "source": []
  }
 ],
 "metadata": {
  "kernelspec": {
   "display_name": "Python 3",
   "language": "python",
   "name": "python3"
  },
  "language_info": {
   "codemirror_mode": {
    "name": "ipython",
    "version": 3
   },
   "file_extension": ".py",
   "mimetype": "text/x-python",
   "name": "python",
   "nbconvert_exporter": "python",
   "pygments_lexer": "ipython3",
   "version": "3.8.3"
  }
 },
 "nbformat": 4,
 "nbformat_minor": 4
}
